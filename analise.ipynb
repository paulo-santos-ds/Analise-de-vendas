{
  "cells": [
    {
      "cell_type": "markdown",
      "metadata": {
        "id": "view-in-github",
        "colab_type": "text"
      },
      "source": [
        "<a href=\"https://colab.research.google.com/github/paulo-santos-ds/Analise-de-vendas/blob/main/analise.ipynb\" target=\"_parent\"><img src=\"https://colab.research.google.com/assets/colab-badge.svg\" alt=\"Open In Colab\"/></a>"
      ]
    },
    {
      "cell_type": "code",
      "execution_count": 1,
      "metadata": {
        "id": "qQKW-yIfJQWl"
      },
      "outputs": [],
      "source": []
    },
    {
      "cell_type": "markdown",
      "metadata": {
        "id": "PYyJJ4g3JQWm"
      },
      "source": [
        "# Descrição do projeto"
      ]
    },
    {
      "cell_type": "markdown",
      "metadata": {
        "id": "Gr8Dr7P4JQWm"
      },
      "source": [
        "Você trabalha para a loja online Ice, que vende videogames no mundo todo. As avaliações de usuários e especialistas, gêneros, plataformas (por exemplo, Xbox ou PlayStation) e dados históricos sobre vendas de jogos estão disponíveis em fontes abertas. Você precisa identificar padrões que determinam se um jogo tem sucesso ou não. Isso vai permitir que você identifique possíveis sucessos e planeje campanhas publicitárias.\n",
        "\n",
        "Os dados disponibilizados remontam a 2016. Vamos imaginar que estamos em dezembro de 2016 e você está planejando uma campanha para 2017.\n",
        "\n",
        "(O importante é ter experiência trabalhando com dados. Realmente não importa se você está prevendo as vendas de 2017 com base nos dados de 2016 ou as vendas de 2027 com base nos dados de 2026.)\n",
        "\n",
        "O conjunto de dados contém uma coluna de \"rating\" (classificação) que armazena a classificação ESRB de cada jogo. O Entertainment Software Rating Board avalia o conteúdo de um jogo e atribui uma classificação etária, como Teen (Adolescente) ou Mature (Adulto)."
      ]
    },
    {
      "cell_type": "markdown",
      "metadata": {
        "id": "bDWPL98wJQWm"
      },
      "source": [
        "##  Descrição dos dados\n",
        "\n",
        "Name (nome)\n",
        "\n",
        "Platform (plataforma)\n",
        "\n",
        "Year_of_Release (Ano de lançamento)\n",
        "\n",
        "Genre (gênero)\n",
        "\n",
        "NA_sales (vendas norte-americanas em milhões de USD)\n",
        "\n",
        "EU_sales (vendas na Europa em milhões de USD)\n",
        "\n",
        "JP_sales (vendas no Japão em milhões de USD)\n",
        "\n",
        "Other_sales (vendas em outros países em em milhões de USD)\n",
        "\n",
        "Critic_Score (Pontuação crítica) (máximo de 100)\n",
        "\n",
        "User_Score (Pontuação do usuário) (máximo de 10)\n",
        "\n",
        "Classificação (ESRB)\n",
        "\n",
        "Os dados de 2016 podem estar incompletos."
      ]
    },
    {
      "cell_type": "markdown",
      "metadata": {
        "id": "5OL5xxbJJQWn"
      },
      "source": [
        "# Loja online: Power Games"
      ]
    },
    {
      "cell_type": "markdown",
      "metadata": {
        "id": "Xjtok8GNJQWn"
      },
      "source": [
        "### importando as bibliotecas"
      ]
    },
    {
      "cell_type": "code",
      "execution_count": 2,
      "metadata": {
        "id": "hC0HhKHbJQWn"
      },
      "outputs": [],
      "source": [
        "import matplotlib.pyplot as plt\n",
        "from scipy import stats\n",
        "import pandas as pd\n",
        "import numpy as np\n",
        "import seaborn as sns"
      ]
    },
    {
      "cell_type": "markdown",
      "metadata": {
        "id": "3imqjHSBJQWn"
      },
      "source": [
        "### Leitura os dados"
      ]
    },
    {
      "cell_type": "code",
      "execution_count": 3,
      "metadata": {
        "colab": {
          "base_uri": "https://localhost:8080/",
          "height": 296
        },
        "id": "gSi1xpL4JQWn",
        "outputId": "38d836bd-1a22-450f-c0ab-27e424300b69"
      },
      "outputs": [
        {
          "output_type": "execute_result",
          "data": {
            "text/plain": [
              "                       Name Platform  Year_of_Release         Genre  NA_sales  \\\n",
              "0                Wii Sports      Wii           2006.0        Sports     41.36   \n",
              "1         Super Mario Bros.      NES           1985.0      Platform     29.08   \n",
              "2            Mario Kart Wii      Wii           2008.0        Racing     15.68   \n",
              "3         Wii Sports Resort      Wii           2009.0        Sports     15.61   \n",
              "4  Pokemon Red/Pokemon Blue       GB           1996.0  Role-Playing     11.27   \n",
              "\n",
              "   EU_sales  JP_sales  Other_sales  Critic_Score User_Score Rating  \n",
              "0     28.96      3.77         8.45          76.0          8      E  \n",
              "1      3.58      6.81         0.77           NaN        NaN    NaN  \n",
              "2     12.76      3.79         3.29          82.0        8.3      E  \n",
              "3     10.93      3.28         2.95          80.0          8      E  \n",
              "4      8.89     10.22         1.00           NaN        NaN    NaN  "
            ],
            "text/html": [
              "\n",
              "  <div id=\"df-c07bc15f-0e2d-41b2-97ee-b4565f483fb4\" class=\"colab-df-container\">\n",
              "    <div>\n",
              "<style scoped>\n",
              "    .dataframe tbody tr th:only-of-type {\n",
              "        vertical-align: middle;\n",
              "    }\n",
              "\n",
              "    .dataframe tbody tr th {\n",
              "        vertical-align: top;\n",
              "    }\n",
              "\n",
              "    .dataframe thead th {\n",
              "        text-align: right;\n",
              "    }\n",
              "</style>\n",
              "<table border=\"1\" class=\"dataframe\">\n",
              "  <thead>\n",
              "    <tr style=\"text-align: right;\">\n",
              "      <th></th>\n",
              "      <th>Name</th>\n",
              "      <th>Platform</th>\n",
              "      <th>Year_of_Release</th>\n",
              "      <th>Genre</th>\n",
              "      <th>NA_sales</th>\n",
              "      <th>EU_sales</th>\n",
              "      <th>JP_sales</th>\n",
              "      <th>Other_sales</th>\n",
              "      <th>Critic_Score</th>\n",
              "      <th>User_Score</th>\n",
              "      <th>Rating</th>\n",
              "    </tr>\n",
              "  </thead>\n",
              "  <tbody>\n",
              "    <tr>\n",
              "      <th>0</th>\n",
              "      <td>Wii Sports</td>\n",
              "      <td>Wii</td>\n",
              "      <td>2006.0</td>\n",
              "      <td>Sports</td>\n",
              "      <td>41.36</td>\n",
              "      <td>28.96</td>\n",
              "      <td>3.77</td>\n",
              "      <td>8.45</td>\n",
              "      <td>76.0</td>\n",
              "      <td>8</td>\n",
              "      <td>E</td>\n",
              "    </tr>\n",
              "    <tr>\n",
              "      <th>1</th>\n",
              "      <td>Super Mario Bros.</td>\n",
              "      <td>NES</td>\n",
              "      <td>1985.0</td>\n",
              "      <td>Platform</td>\n",
              "      <td>29.08</td>\n",
              "      <td>3.58</td>\n",
              "      <td>6.81</td>\n",
              "      <td>0.77</td>\n",
              "      <td>NaN</td>\n",
              "      <td>NaN</td>\n",
              "      <td>NaN</td>\n",
              "    </tr>\n",
              "    <tr>\n",
              "      <th>2</th>\n",
              "      <td>Mario Kart Wii</td>\n",
              "      <td>Wii</td>\n",
              "      <td>2008.0</td>\n",
              "      <td>Racing</td>\n",
              "      <td>15.68</td>\n",
              "      <td>12.76</td>\n",
              "      <td>3.79</td>\n",
              "      <td>3.29</td>\n",
              "      <td>82.0</td>\n",
              "      <td>8.3</td>\n",
              "      <td>E</td>\n",
              "    </tr>\n",
              "    <tr>\n",
              "      <th>3</th>\n",
              "      <td>Wii Sports Resort</td>\n",
              "      <td>Wii</td>\n",
              "      <td>2009.0</td>\n",
              "      <td>Sports</td>\n",
              "      <td>15.61</td>\n",
              "      <td>10.93</td>\n",
              "      <td>3.28</td>\n",
              "      <td>2.95</td>\n",
              "      <td>80.0</td>\n",
              "      <td>8</td>\n",
              "      <td>E</td>\n",
              "    </tr>\n",
              "    <tr>\n",
              "      <th>4</th>\n",
              "      <td>Pokemon Red/Pokemon Blue</td>\n",
              "      <td>GB</td>\n",
              "      <td>1996.0</td>\n",
              "      <td>Role-Playing</td>\n",
              "      <td>11.27</td>\n",
              "      <td>8.89</td>\n",
              "      <td>10.22</td>\n",
              "      <td>1.00</td>\n",
              "      <td>NaN</td>\n",
              "      <td>NaN</td>\n",
              "      <td>NaN</td>\n",
              "    </tr>\n",
              "  </tbody>\n",
              "</table>\n",
              "</div>\n",
              "    <div class=\"colab-df-buttons\">\n",
              "\n",
              "  <div class=\"colab-df-container\">\n",
              "    <button class=\"colab-df-convert\" onclick=\"convertToInteractive('df-c07bc15f-0e2d-41b2-97ee-b4565f483fb4')\"\n",
              "            title=\"Convert this dataframe to an interactive table.\"\n",
              "            style=\"display:none;\">\n",
              "\n",
              "  <svg xmlns=\"http://www.w3.org/2000/svg\" height=\"24px\" viewBox=\"0 -960 960 960\">\n",
              "    <path d=\"M120-120v-720h720v720H120Zm60-500h600v-160H180v160Zm220 220h160v-160H400v160Zm0 220h160v-160H400v160ZM180-400h160v-160H180v160Zm440 0h160v-160H620v160ZM180-180h160v-160H180v160Zm440 0h160v-160H620v160Z\"/>\n",
              "  </svg>\n",
              "    </button>\n",
              "\n",
              "  <style>\n",
              "    .colab-df-container {\n",
              "      display:flex;\n",
              "      gap: 12px;\n",
              "    }\n",
              "\n",
              "    .colab-df-convert {\n",
              "      background-color: #E8F0FE;\n",
              "      border: none;\n",
              "      border-radius: 50%;\n",
              "      cursor: pointer;\n",
              "      display: none;\n",
              "      fill: #1967D2;\n",
              "      height: 32px;\n",
              "      padding: 0 0 0 0;\n",
              "      width: 32px;\n",
              "    }\n",
              "\n",
              "    .colab-df-convert:hover {\n",
              "      background-color: #E2EBFA;\n",
              "      box-shadow: 0px 1px 2px rgba(60, 64, 67, 0.3), 0px 1px 3px 1px rgba(60, 64, 67, 0.15);\n",
              "      fill: #174EA6;\n",
              "    }\n",
              "\n",
              "    .colab-df-buttons div {\n",
              "      margin-bottom: 4px;\n",
              "    }\n",
              "\n",
              "    [theme=dark] .colab-df-convert {\n",
              "      background-color: #3B4455;\n",
              "      fill: #D2E3FC;\n",
              "    }\n",
              "\n",
              "    [theme=dark] .colab-df-convert:hover {\n",
              "      background-color: #434B5C;\n",
              "      box-shadow: 0px 1px 3px 1px rgba(0, 0, 0, 0.15);\n",
              "      filter: drop-shadow(0px 1px 2px rgba(0, 0, 0, 0.3));\n",
              "      fill: #FFFFFF;\n",
              "    }\n",
              "  </style>\n",
              "\n",
              "    <script>\n",
              "      const buttonEl =\n",
              "        document.querySelector('#df-c07bc15f-0e2d-41b2-97ee-b4565f483fb4 button.colab-df-convert');\n",
              "      buttonEl.style.display =\n",
              "        google.colab.kernel.accessAllowed ? 'block' : 'none';\n",
              "\n",
              "      async function convertToInteractive(key) {\n",
              "        const element = document.querySelector('#df-c07bc15f-0e2d-41b2-97ee-b4565f483fb4');\n",
              "        const dataTable =\n",
              "          await google.colab.kernel.invokeFunction('convertToInteractive',\n",
              "                                                    [key], {});\n",
              "        if (!dataTable) return;\n",
              "\n",
              "        const docLinkHtml = 'Like what you see? Visit the ' +\n",
              "          '<a target=\"_blank\" href=https://colab.research.google.com/notebooks/data_table.ipynb>data table notebook</a>'\n",
              "          + ' to learn more about interactive tables.';\n",
              "        element.innerHTML = '';\n",
              "        dataTable['output_type'] = 'display_data';\n",
              "        await google.colab.output.renderOutput(dataTable, element);\n",
              "        const docLink = document.createElement('div');\n",
              "        docLink.innerHTML = docLinkHtml;\n",
              "        element.appendChild(docLink);\n",
              "      }\n",
              "    </script>\n",
              "  </div>\n",
              "\n",
              "\n",
              "<div id=\"df-4c1cdec1-24f2-4202-9e84-32c32ef2a92a\">\n",
              "  <button class=\"colab-df-quickchart\" onclick=\"quickchart('df-4c1cdec1-24f2-4202-9e84-32c32ef2a92a')\"\n",
              "            title=\"Suggest charts\"\n",
              "            style=\"display:none;\">\n",
              "\n",
              "<svg xmlns=\"http://www.w3.org/2000/svg\" height=\"24px\"viewBox=\"0 0 24 24\"\n",
              "     width=\"24px\">\n",
              "    <g>\n",
              "        <path d=\"M19 3H5c-1.1 0-2 .9-2 2v14c0 1.1.9 2 2 2h14c1.1 0 2-.9 2-2V5c0-1.1-.9-2-2-2zM9 17H7v-7h2v7zm4 0h-2V7h2v10zm4 0h-2v-4h2v4z\"/>\n",
              "    </g>\n",
              "</svg>\n",
              "  </button>\n",
              "\n",
              "<style>\n",
              "  .colab-df-quickchart {\n",
              "      --bg-color: #E8F0FE;\n",
              "      --fill-color: #1967D2;\n",
              "      --hover-bg-color: #E2EBFA;\n",
              "      --hover-fill-color: #174EA6;\n",
              "      --disabled-fill-color: #AAA;\n",
              "      --disabled-bg-color: #DDD;\n",
              "  }\n",
              "\n",
              "  [theme=dark] .colab-df-quickchart {\n",
              "      --bg-color: #3B4455;\n",
              "      --fill-color: #D2E3FC;\n",
              "      --hover-bg-color: #434B5C;\n",
              "      --hover-fill-color: #FFFFFF;\n",
              "      --disabled-bg-color: #3B4455;\n",
              "      --disabled-fill-color: #666;\n",
              "  }\n",
              "\n",
              "  .colab-df-quickchart {\n",
              "    background-color: var(--bg-color);\n",
              "    border: none;\n",
              "    border-radius: 50%;\n",
              "    cursor: pointer;\n",
              "    display: none;\n",
              "    fill: var(--fill-color);\n",
              "    height: 32px;\n",
              "    padding: 0;\n",
              "    width: 32px;\n",
              "  }\n",
              "\n",
              "  .colab-df-quickchart:hover {\n",
              "    background-color: var(--hover-bg-color);\n",
              "    box-shadow: 0 1px 2px rgba(60, 64, 67, 0.3), 0 1px 3px 1px rgba(60, 64, 67, 0.15);\n",
              "    fill: var(--button-hover-fill-color);\n",
              "  }\n",
              "\n",
              "  .colab-df-quickchart-complete:disabled,\n",
              "  .colab-df-quickchart-complete:disabled:hover {\n",
              "    background-color: var(--disabled-bg-color);\n",
              "    fill: var(--disabled-fill-color);\n",
              "    box-shadow: none;\n",
              "  }\n",
              "\n",
              "  .colab-df-spinner {\n",
              "    border: 2px solid var(--fill-color);\n",
              "    border-color: transparent;\n",
              "    border-bottom-color: var(--fill-color);\n",
              "    animation:\n",
              "      spin 1s steps(1) infinite;\n",
              "  }\n",
              "\n",
              "  @keyframes spin {\n",
              "    0% {\n",
              "      border-color: transparent;\n",
              "      border-bottom-color: var(--fill-color);\n",
              "      border-left-color: var(--fill-color);\n",
              "    }\n",
              "    20% {\n",
              "      border-color: transparent;\n",
              "      border-left-color: var(--fill-color);\n",
              "      border-top-color: var(--fill-color);\n",
              "    }\n",
              "    30% {\n",
              "      border-color: transparent;\n",
              "      border-left-color: var(--fill-color);\n",
              "      border-top-color: var(--fill-color);\n",
              "      border-right-color: var(--fill-color);\n",
              "    }\n",
              "    40% {\n",
              "      border-color: transparent;\n",
              "      border-right-color: var(--fill-color);\n",
              "      border-top-color: var(--fill-color);\n",
              "    }\n",
              "    60% {\n",
              "      border-color: transparent;\n",
              "      border-right-color: var(--fill-color);\n",
              "    }\n",
              "    80% {\n",
              "      border-color: transparent;\n",
              "      border-right-color: var(--fill-color);\n",
              "      border-bottom-color: var(--fill-color);\n",
              "    }\n",
              "    90% {\n",
              "      border-color: transparent;\n",
              "      border-bottom-color: var(--fill-color);\n",
              "    }\n",
              "  }\n",
              "</style>\n",
              "\n",
              "  <script>\n",
              "    async function quickchart(key) {\n",
              "      const quickchartButtonEl =\n",
              "        document.querySelector('#' + key + ' button');\n",
              "      quickchartButtonEl.disabled = true;  // To prevent multiple clicks.\n",
              "      quickchartButtonEl.classList.add('colab-df-spinner');\n",
              "      try {\n",
              "        const charts = await google.colab.kernel.invokeFunction(\n",
              "            'suggestCharts', [key], {});\n",
              "      } catch (error) {\n",
              "        console.error('Error during call to suggestCharts:', error);\n",
              "      }\n",
              "      quickchartButtonEl.classList.remove('colab-df-spinner');\n",
              "      quickchartButtonEl.classList.add('colab-df-quickchart-complete');\n",
              "    }\n",
              "    (() => {\n",
              "      let quickchartButtonEl =\n",
              "        document.querySelector('#df-4c1cdec1-24f2-4202-9e84-32c32ef2a92a button');\n",
              "      quickchartButtonEl.style.display =\n",
              "        google.colab.kernel.accessAllowed ? 'block' : 'none';\n",
              "    })();\n",
              "  </script>\n",
              "</div>\n",
              "\n",
              "    </div>\n",
              "  </div>\n"
            ],
            "application/vnd.google.colaboratory.intrinsic+json": {
              "type": "dataframe",
              "variable_name": "df",
              "summary": "{\n  \"name\": \"df\",\n  \"rows\": 16715,\n  \"fields\": [\n    {\n      \"column\": \"Name\",\n      \"properties\": {\n        \"dtype\": \"string\",\n        \"num_unique_values\": 11559,\n        \"samples\": [\n          \"Trinity Universe\",\n          \"Picross 2\",\n          \"Darkened Skye\"\n        ],\n        \"semantic_type\": \"\",\n        \"description\": \"\"\n      }\n    },\n    {\n      \"column\": \"Platform\",\n      \"properties\": {\n        \"dtype\": \"category\",\n        \"num_unique_values\": 31,\n        \"samples\": [\n          \"TG16\",\n          \"2600\",\n          \"SAT\"\n        ],\n        \"semantic_type\": \"\",\n        \"description\": \"\"\n      }\n    },\n    {\n      \"column\": \"Year_of_Release\",\n      \"properties\": {\n        \"dtype\": \"number\",\n        \"std\": 5.877049828017123,\n        \"min\": 1980.0,\n        \"max\": 2016.0,\n        \"num_unique_values\": 37,\n        \"samples\": [\n          2011.0,\n          1990.0,\n          1996.0\n        ],\n        \"semantic_type\": \"\",\n        \"description\": \"\"\n      }\n    },\n    {\n      \"column\": \"Genre\",\n      \"properties\": {\n        \"dtype\": \"category\",\n        \"num_unique_values\": 12,\n        \"samples\": [\n          \"Adventure\",\n          \"Fighting\",\n          \"Sports\"\n        ],\n        \"semantic_type\": \"\",\n        \"description\": \"\"\n      }\n    },\n    {\n      \"column\": \"NA_sales\",\n      \"properties\": {\n        \"dtype\": \"number\",\n        \"std\": 0.8136035222633384,\n        \"min\": 0.0,\n        \"max\": 41.36,\n        \"num_unique_values\": 402,\n        \"samples\": [\n          1.45,\n          0.59,\n          5.28\n        ],\n        \"semantic_type\": \"\",\n        \"description\": \"\"\n      }\n    },\n    {\n      \"column\": \"EU_sales\",\n      \"properties\": {\n        \"dtype\": \"number\",\n        \"std\": 0.5033385142348317,\n        \"min\": 0.0,\n        \"max\": 28.96,\n        \"num_unique_values\": 307,\n        \"samples\": [\n          1.29,\n          1.95,\n          1.83\n        ],\n        \"semantic_type\": \"\",\n        \"description\": \"\"\n      }\n    },\n    {\n      \"column\": \"JP_sales\",\n      \"properties\": {\n        \"dtype\": \"number\",\n        \"std\": 0.3088534256325729,\n        \"min\": 0.0,\n        \"max\": 10.22,\n        \"num_unique_values\": 244,\n        \"samples\": [\n          0.47,\n          6.5,\n          2.46\n        ],\n        \"semantic_type\": \"\",\n        \"description\": \"\"\n      }\n    },\n    {\n      \"column\": \"Other_sales\",\n      \"properties\": {\n        \"dtype\": \"number\",\n        \"std\": 0.18673104072945518,\n        \"min\": 0.0,\n        \"max\": 10.57,\n        \"num_unique_values\": 155,\n        \"samples\": [\n          0.48,\n          0.27,\n          2.38\n        ],\n        \"semantic_type\": \"\",\n        \"description\": \"\"\n      }\n    },\n    {\n      \"column\": \"Critic_Score\",\n      \"properties\": {\n        \"dtype\": \"number\",\n        \"std\": 13.938164552843201,\n        \"min\": 13.0,\n        \"max\": 98.0,\n        \"num_unique_values\": 82,\n        \"samples\": [\n          67.0,\n          76.0,\n          74.0\n        ],\n        \"semantic_type\": \"\",\n        \"description\": \"\"\n      }\n    },\n    {\n      \"column\": \"User_Score\",\n      \"properties\": {\n        \"dtype\": \"category\",\n        \"num_unique_values\": 96,\n        \"samples\": [\n          \"2.4\",\n          \"0\",\n          \"3.6\"\n        ],\n        \"semantic_type\": \"\",\n        \"description\": \"\"\n      }\n    },\n    {\n      \"column\": \"Rating\",\n      \"properties\": {\n        \"dtype\": \"category\",\n        \"num_unique_values\": 8,\n        \"samples\": [\n          \"M\",\n          \"AO\",\n          \"E\"\n        ],\n        \"semantic_type\": \"\",\n        \"description\": \"\"\n      }\n    }\n  ]\n}"
            }
          },
          "metadata": {},
          "execution_count": 3
        }
      ],
      "source": [
        "\n",
        "df = pd.read_csv('/content/sample_data/games.csv')\n",
        "df.head()\n"
      ]
    },
    {
      "cell_type": "markdown",
      "metadata": {
        "id": "ErLH1ChfJQWo"
      },
      "source": [
        "### Informações gerais dos dados"
      ]
    },
    {
      "cell_type": "code",
      "execution_count": 4,
      "metadata": {
        "colab": {
          "base_uri": "https://localhost:8080/"
        },
        "id": "YVONzrW7JQWo",
        "outputId": "e763aaac-1a19-46cb-d43f-3eed530b0e91"
      },
      "outputs": [
        {
          "output_type": "stream",
          "name": "stdout",
          "text": [
            "<class 'pandas.core.frame.DataFrame'>\n",
            "RangeIndex: 16715 entries, 0 to 16714\n",
            "Data columns (total 11 columns):\n",
            " #   Column           Non-Null Count  Dtype  \n",
            "---  ------           --------------  -----  \n",
            " 0   Name             16713 non-null  object \n",
            " 1   Platform         16715 non-null  object \n",
            " 2   Year_of_Release  16446 non-null  float64\n",
            " 3   Genre            16713 non-null  object \n",
            " 4   NA_sales         16715 non-null  float64\n",
            " 5   EU_sales         16715 non-null  float64\n",
            " 6   JP_sales         16715 non-null  float64\n",
            " 7   Other_sales      16715 non-null  float64\n",
            " 8   Critic_Score     8137 non-null   float64\n",
            " 9   User_Score       10014 non-null  object \n",
            " 10  Rating           9949 non-null   object \n",
            "dtypes: float64(6), object(5)\n",
            "memory usage: 1.4+ MB\n"
          ]
        }
      ],
      "source": [
        "df.info()"
      ]
    },
    {
      "cell_type": "markdown",
      "metadata": {
        "id": "YN4p5x_JJQWo"
      },
      "source": [
        "## Preparando os dados"
      ]
    },
    {
      "cell_type": "markdown",
      "metadata": {
        "id": "7kBDR7jrJQWo"
      },
      "source": [
        "### Transformando nome das colunas em minusculo"
      ]
    },
    {
      "cell_type": "code",
      "execution_count": 5,
      "metadata": {
        "colab": {
          "base_uri": "https://localhost:8080/",
          "height": 296
        },
        "id": "pe3UQz0cJQWo",
        "outputId": "3eb0365e-3902-4093-de32-d63a05034050"
      },
      "outputs": [
        {
          "output_type": "execute_result",
          "data": {
            "text/plain": [
              "                       name platform  year_of_release         genre  na_sales  \\\n",
              "0                Wii Sports      Wii           2006.0        Sports     41.36   \n",
              "1         Super Mario Bros.      NES           1985.0      Platform     29.08   \n",
              "2            Mario Kart Wii      Wii           2008.0        Racing     15.68   \n",
              "3         Wii Sports Resort      Wii           2009.0        Sports     15.61   \n",
              "4  Pokemon Red/Pokemon Blue       GB           1996.0  Role-Playing     11.27   \n",
              "\n",
              "   eu_sales  jp_sales  other_sales  critic_score user_score rating  \n",
              "0     28.96      3.77         8.45          76.0          8      E  \n",
              "1      3.58      6.81         0.77           NaN        NaN    NaN  \n",
              "2     12.76      3.79         3.29          82.0        8.3      E  \n",
              "3     10.93      3.28         2.95          80.0          8      E  \n",
              "4      8.89     10.22         1.00           NaN        NaN    NaN  "
            ],
            "text/html": [
              "\n",
              "  <div id=\"df-e1d2baef-df71-40ff-8d7f-df891efb30ae\" class=\"colab-df-container\">\n",
              "    <div>\n",
              "<style scoped>\n",
              "    .dataframe tbody tr th:only-of-type {\n",
              "        vertical-align: middle;\n",
              "    }\n",
              "\n",
              "    .dataframe tbody tr th {\n",
              "        vertical-align: top;\n",
              "    }\n",
              "\n",
              "    .dataframe thead th {\n",
              "        text-align: right;\n",
              "    }\n",
              "</style>\n",
              "<table border=\"1\" class=\"dataframe\">\n",
              "  <thead>\n",
              "    <tr style=\"text-align: right;\">\n",
              "      <th></th>\n",
              "      <th>name</th>\n",
              "      <th>platform</th>\n",
              "      <th>year_of_release</th>\n",
              "      <th>genre</th>\n",
              "      <th>na_sales</th>\n",
              "      <th>eu_sales</th>\n",
              "      <th>jp_sales</th>\n",
              "      <th>other_sales</th>\n",
              "      <th>critic_score</th>\n",
              "      <th>user_score</th>\n",
              "      <th>rating</th>\n",
              "    </tr>\n",
              "  </thead>\n",
              "  <tbody>\n",
              "    <tr>\n",
              "      <th>0</th>\n",
              "      <td>Wii Sports</td>\n",
              "      <td>Wii</td>\n",
              "      <td>2006.0</td>\n",
              "      <td>Sports</td>\n",
              "      <td>41.36</td>\n",
              "      <td>28.96</td>\n",
              "      <td>3.77</td>\n",
              "      <td>8.45</td>\n",
              "      <td>76.0</td>\n",
              "      <td>8</td>\n",
              "      <td>E</td>\n",
              "    </tr>\n",
              "    <tr>\n",
              "      <th>1</th>\n",
              "      <td>Super Mario Bros.</td>\n",
              "      <td>NES</td>\n",
              "      <td>1985.0</td>\n",
              "      <td>Platform</td>\n",
              "      <td>29.08</td>\n",
              "      <td>3.58</td>\n",
              "      <td>6.81</td>\n",
              "      <td>0.77</td>\n",
              "      <td>NaN</td>\n",
              "      <td>NaN</td>\n",
              "      <td>NaN</td>\n",
              "    </tr>\n",
              "    <tr>\n",
              "      <th>2</th>\n",
              "      <td>Mario Kart Wii</td>\n",
              "      <td>Wii</td>\n",
              "      <td>2008.0</td>\n",
              "      <td>Racing</td>\n",
              "      <td>15.68</td>\n",
              "      <td>12.76</td>\n",
              "      <td>3.79</td>\n",
              "      <td>3.29</td>\n",
              "      <td>82.0</td>\n",
              "      <td>8.3</td>\n",
              "      <td>E</td>\n",
              "    </tr>\n",
              "    <tr>\n",
              "      <th>3</th>\n",
              "      <td>Wii Sports Resort</td>\n",
              "      <td>Wii</td>\n",
              "      <td>2009.0</td>\n",
              "      <td>Sports</td>\n",
              "      <td>15.61</td>\n",
              "      <td>10.93</td>\n",
              "      <td>3.28</td>\n",
              "      <td>2.95</td>\n",
              "      <td>80.0</td>\n",
              "      <td>8</td>\n",
              "      <td>E</td>\n",
              "    </tr>\n",
              "    <tr>\n",
              "      <th>4</th>\n",
              "      <td>Pokemon Red/Pokemon Blue</td>\n",
              "      <td>GB</td>\n",
              "      <td>1996.0</td>\n",
              "      <td>Role-Playing</td>\n",
              "      <td>11.27</td>\n",
              "      <td>8.89</td>\n",
              "      <td>10.22</td>\n",
              "      <td>1.00</td>\n",
              "      <td>NaN</td>\n",
              "      <td>NaN</td>\n",
              "      <td>NaN</td>\n",
              "    </tr>\n",
              "  </tbody>\n",
              "</table>\n",
              "</div>\n",
              "    <div class=\"colab-df-buttons\">\n",
              "\n",
              "  <div class=\"colab-df-container\">\n",
              "    <button class=\"colab-df-convert\" onclick=\"convertToInteractive('df-e1d2baef-df71-40ff-8d7f-df891efb30ae')\"\n",
              "            title=\"Convert this dataframe to an interactive table.\"\n",
              "            style=\"display:none;\">\n",
              "\n",
              "  <svg xmlns=\"http://www.w3.org/2000/svg\" height=\"24px\" viewBox=\"0 -960 960 960\">\n",
              "    <path d=\"M120-120v-720h720v720H120Zm60-500h600v-160H180v160Zm220 220h160v-160H400v160Zm0 220h160v-160H400v160ZM180-400h160v-160H180v160Zm440 0h160v-160H620v160ZM180-180h160v-160H180v160Zm440 0h160v-160H620v160Z\"/>\n",
              "  </svg>\n",
              "    </button>\n",
              "\n",
              "  <style>\n",
              "    .colab-df-container {\n",
              "      display:flex;\n",
              "      gap: 12px;\n",
              "    }\n",
              "\n",
              "    .colab-df-convert {\n",
              "      background-color: #E8F0FE;\n",
              "      border: none;\n",
              "      border-radius: 50%;\n",
              "      cursor: pointer;\n",
              "      display: none;\n",
              "      fill: #1967D2;\n",
              "      height: 32px;\n",
              "      padding: 0 0 0 0;\n",
              "      width: 32px;\n",
              "    }\n",
              "\n",
              "    .colab-df-convert:hover {\n",
              "      background-color: #E2EBFA;\n",
              "      box-shadow: 0px 1px 2px rgba(60, 64, 67, 0.3), 0px 1px 3px 1px rgba(60, 64, 67, 0.15);\n",
              "      fill: #174EA6;\n",
              "    }\n",
              "\n",
              "    .colab-df-buttons div {\n",
              "      margin-bottom: 4px;\n",
              "    }\n",
              "\n",
              "    [theme=dark] .colab-df-convert {\n",
              "      background-color: #3B4455;\n",
              "      fill: #D2E3FC;\n",
              "    }\n",
              "\n",
              "    [theme=dark] .colab-df-convert:hover {\n",
              "      background-color: #434B5C;\n",
              "      box-shadow: 0px 1px 3px 1px rgba(0, 0, 0, 0.15);\n",
              "      filter: drop-shadow(0px 1px 2px rgba(0, 0, 0, 0.3));\n",
              "      fill: #FFFFFF;\n",
              "    }\n",
              "  </style>\n",
              "\n",
              "    <script>\n",
              "      const buttonEl =\n",
              "        document.querySelector('#df-e1d2baef-df71-40ff-8d7f-df891efb30ae button.colab-df-convert');\n",
              "      buttonEl.style.display =\n",
              "        google.colab.kernel.accessAllowed ? 'block' : 'none';\n",
              "\n",
              "      async function convertToInteractive(key) {\n",
              "        const element = document.querySelector('#df-e1d2baef-df71-40ff-8d7f-df891efb30ae');\n",
              "        const dataTable =\n",
              "          await google.colab.kernel.invokeFunction('convertToInteractive',\n",
              "                                                    [key], {});\n",
              "        if (!dataTable) return;\n",
              "\n",
              "        const docLinkHtml = 'Like what you see? Visit the ' +\n",
              "          '<a target=\"_blank\" href=https://colab.research.google.com/notebooks/data_table.ipynb>data table notebook</a>'\n",
              "          + ' to learn more about interactive tables.';\n",
              "        element.innerHTML = '';\n",
              "        dataTable['output_type'] = 'display_data';\n",
              "        await google.colab.output.renderOutput(dataTable, element);\n",
              "        const docLink = document.createElement('div');\n",
              "        docLink.innerHTML = docLinkHtml;\n",
              "        element.appendChild(docLink);\n",
              "      }\n",
              "    </script>\n",
              "  </div>\n",
              "\n",
              "\n",
              "<div id=\"df-8cb4cba8-d337-438c-a799-27a34e5f4979\">\n",
              "  <button class=\"colab-df-quickchart\" onclick=\"quickchart('df-8cb4cba8-d337-438c-a799-27a34e5f4979')\"\n",
              "            title=\"Suggest charts\"\n",
              "            style=\"display:none;\">\n",
              "\n",
              "<svg xmlns=\"http://www.w3.org/2000/svg\" height=\"24px\"viewBox=\"0 0 24 24\"\n",
              "     width=\"24px\">\n",
              "    <g>\n",
              "        <path d=\"M19 3H5c-1.1 0-2 .9-2 2v14c0 1.1.9 2 2 2h14c1.1 0 2-.9 2-2V5c0-1.1-.9-2-2-2zM9 17H7v-7h2v7zm4 0h-2V7h2v10zm4 0h-2v-4h2v4z\"/>\n",
              "    </g>\n",
              "</svg>\n",
              "  </button>\n",
              "\n",
              "<style>\n",
              "  .colab-df-quickchart {\n",
              "      --bg-color: #E8F0FE;\n",
              "      --fill-color: #1967D2;\n",
              "      --hover-bg-color: #E2EBFA;\n",
              "      --hover-fill-color: #174EA6;\n",
              "      --disabled-fill-color: #AAA;\n",
              "      --disabled-bg-color: #DDD;\n",
              "  }\n",
              "\n",
              "  [theme=dark] .colab-df-quickchart {\n",
              "      --bg-color: #3B4455;\n",
              "      --fill-color: #D2E3FC;\n",
              "      --hover-bg-color: #434B5C;\n",
              "      --hover-fill-color: #FFFFFF;\n",
              "      --disabled-bg-color: #3B4455;\n",
              "      --disabled-fill-color: #666;\n",
              "  }\n",
              "\n",
              "  .colab-df-quickchart {\n",
              "    background-color: var(--bg-color);\n",
              "    border: none;\n",
              "    border-radius: 50%;\n",
              "    cursor: pointer;\n",
              "    display: none;\n",
              "    fill: var(--fill-color);\n",
              "    height: 32px;\n",
              "    padding: 0;\n",
              "    width: 32px;\n",
              "  }\n",
              "\n",
              "  .colab-df-quickchart:hover {\n",
              "    background-color: var(--hover-bg-color);\n",
              "    box-shadow: 0 1px 2px rgba(60, 64, 67, 0.3), 0 1px 3px 1px rgba(60, 64, 67, 0.15);\n",
              "    fill: var(--button-hover-fill-color);\n",
              "  }\n",
              "\n",
              "  .colab-df-quickchart-complete:disabled,\n",
              "  .colab-df-quickchart-complete:disabled:hover {\n",
              "    background-color: var(--disabled-bg-color);\n",
              "    fill: var(--disabled-fill-color);\n",
              "    box-shadow: none;\n",
              "  }\n",
              "\n",
              "  .colab-df-spinner {\n",
              "    border: 2px solid var(--fill-color);\n",
              "    border-color: transparent;\n",
              "    border-bottom-color: var(--fill-color);\n",
              "    animation:\n",
              "      spin 1s steps(1) infinite;\n",
              "  }\n",
              "\n",
              "  @keyframes spin {\n",
              "    0% {\n",
              "      border-color: transparent;\n",
              "      border-bottom-color: var(--fill-color);\n",
              "      border-left-color: var(--fill-color);\n",
              "    }\n",
              "    20% {\n",
              "      border-color: transparent;\n",
              "      border-left-color: var(--fill-color);\n",
              "      border-top-color: var(--fill-color);\n",
              "    }\n",
              "    30% {\n",
              "      border-color: transparent;\n",
              "      border-left-color: var(--fill-color);\n",
              "      border-top-color: var(--fill-color);\n",
              "      border-right-color: var(--fill-color);\n",
              "    }\n",
              "    40% {\n",
              "      border-color: transparent;\n",
              "      border-right-color: var(--fill-color);\n",
              "      border-top-color: var(--fill-color);\n",
              "    }\n",
              "    60% {\n",
              "      border-color: transparent;\n",
              "      border-right-color: var(--fill-color);\n",
              "    }\n",
              "    80% {\n",
              "      border-color: transparent;\n",
              "      border-right-color: var(--fill-color);\n",
              "      border-bottom-color: var(--fill-color);\n",
              "    }\n",
              "    90% {\n",
              "      border-color: transparent;\n",
              "      border-bottom-color: var(--fill-color);\n",
              "    }\n",
              "  }\n",
              "</style>\n",
              "\n",
              "  <script>\n",
              "    async function quickchart(key) {\n",
              "      const quickchartButtonEl =\n",
              "        document.querySelector('#' + key + ' button');\n",
              "      quickchartButtonEl.disabled = true;  // To prevent multiple clicks.\n",
              "      quickchartButtonEl.classList.add('colab-df-spinner');\n",
              "      try {\n",
              "        const charts = await google.colab.kernel.invokeFunction(\n",
              "            'suggestCharts', [key], {});\n",
              "      } catch (error) {\n",
              "        console.error('Error during call to suggestCharts:', error);\n",
              "      }\n",
              "      quickchartButtonEl.classList.remove('colab-df-spinner');\n",
              "      quickchartButtonEl.classList.add('colab-df-quickchart-complete');\n",
              "    }\n",
              "    (() => {\n",
              "      let quickchartButtonEl =\n",
              "        document.querySelector('#df-8cb4cba8-d337-438c-a799-27a34e5f4979 button');\n",
              "      quickchartButtonEl.style.display =\n",
              "        google.colab.kernel.accessAllowed ? 'block' : 'none';\n",
              "    })();\n",
              "  </script>\n",
              "</div>\n",
              "\n",
              "    </div>\n",
              "  </div>\n"
            ],
            "application/vnd.google.colaboratory.intrinsic+json": {
              "type": "dataframe",
              "variable_name": "df",
              "summary": "{\n  \"name\": \"df\",\n  \"rows\": 16715,\n  \"fields\": [\n    {\n      \"column\": \"name\",\n      \"properties\": {\n        \"dtype\": \"string\",\n        \"num_unique_values\": 11559,\n        \"samples\": [\n          \"Trinity Universe\",\n          \"Picross 2\",\n          \"Darkened Skye\"\n        ],\n        \"semantic_type\": \"\",\n        \"description\": \"\"\n      }\n    },\n    {\n      \"column\": \"platform\",\n      \"properties\": {\n        \"dtype\": \"category\",\n        \"num_unique_values\": 31,\n        \"samples\": [\n          \"TG16\",\n          \"2600\",\n          \"SAT\"\n        ],\n        \"semantic_type\": \"\",\n        \"description\": \"\"\n      }\n    },\n    {\n      \"column\": \"year_of_release\",\n      \"properties\": {\n        \"dtype\": \"number\",\n        \"std\": 5.877049828017123,\n        \"min\": 1980.0,\n        \"max\": 2016.0,\n        \"num_unique_values\": 37,\n        \"samples\": [\n          2011.0,\n          1990.0,\n          1996.0\n        ],\n        \"semantic_type\": \"\",\n        \"description\": \"\"\n      }\n    },\n    {\n      \"column\": \"genre\",\n      \"properties\": {\n        \"dtype\": \"category\",\n        \"num_unique_values\": 12,\n        \"samples\": [\n          \"Adventure\",\n          \"Fighting\",\n          \"Sports\"\n        ],\n        \"semantic_type\": \"\",\n        \"description\": \"\"\n      }\n    },\n    {\n      \"column\": \"na_sales\",\n      \"properties\": {\n        \"dtype\": \"number\",\n        \"std\": 0.8136035222633384,\n        \"min\": 0.0,\n        \"max\": 41.36,\n        \"num_unique_values\": 402,\n        \"samples\": [\n          1.45,\n          0.59,\n          5.28\n        ],\n        \"semantic_type\": \"\",\n        \"description\": \"\"\n      }\n    },\n    {\n      \"column\": \"eu_sales\",\n      \"properties\": {\n        \"dtype\": \"number\",\n        \"std\": 0.5033385142348317,\n        \"min\": 0.0,\n        \"max\": 28.96,\n        \"num_unique_values\": 307,\n        \"samples\": [\n          1.29,\n          1.95,\n          1.83\n        ],\n        \"semantic_type\": \"\",\n        \"description\": \"\"\n      }\n    },\n    {\n      \"column\": \"jp_sales\",\n      \"properties\": {\n        \"dtype\": \"number\",\n        \"std\": 0.3088534256325729,\n        \"min\": 0.0,\n        \"max\": 10.22,\n        \"num_unique_values\": 244,\n        \"samples\": [\n          0.47,\n          6.5,\n          2.46\n        ],\n        \"semantic_type\": \"\",\n        \"description\": \"\"\n      }\n    },\n    {\n      \"column\": \"other_sales\",\n      \"properties\": {\n        \"dtype\": \"number\",\n        \"std\": 0.18673104072945518,\n        \"min\": 0.0,\n        \"max\": 10.57,\n        \"num_unique_values\": 155,\n        \"samples\": [\n          0.48,\n          0.27,\n          2.38\n        ],\n        \"semantic_type\": \"\",\n        \"description\": \"\"\n      }\n    },\n    {\n      \"column\": \"critic_score\",\n      \"properties\": {\n        \"dtype\": \"number\",\n        \"std\": 13.938164552843201,\n        \"min\": 13.0,\n        \"max\": 98.0,\n        \"num_unique_values\": 82,\n        \"samples\": [\n          67.0,\n          76.0,\n          74.0\n        ],\n        \"semantic_type\": \"\",\n        \"description\": \"\"\n      }\n    },\n    {\n      \"column\": \"user_score\",\n      \"properties\": {\n        \"dtype\": \"category\",\n        \"num_unique_values\": 96,\n        \"samples\": [\n          \"2.4\",\n          \"0\",\n          \"3.6\"\n        ],\n        \"semantic_type\": \"\",\n        \"description\": \"\"\n      }\n    },\n    {\n      \"column\": \"rating\",\n      \"properties\": {\n        \"dtype\": \"category\",\n        \"num_unique_values\": 8,\n        \"samples\": [\n          \"M\",\n          \"AO\",\n          \"E\"\n        ],\n        \"semantic_type\": \"\",\n        \"description\": \"\"\n      }\n    }\n  ]\n}"
            }
          },
          "metadata": {},
          "execution_count": 5
        }
      ],
      "source": [
        "df.columns = df.columns.str.lower()\n",
        "df.head()\n",
        "\n"
      ]
    },
    {
      "cell_type": "markdown",
      "metadata": {
        "id": "-5fumTyaJQWo"
      },
      "source": [
        "### Converta os dados para os tipos necessários\n"
      ]
    },
    {
      "cell_type": "markdown",
      "metadata": {
        "id": "a-tGi2o9JQWo"
      },
      "source": [
        "#### A coluna 'year_of_release' deve ser do tipo inteiro (int)"
      ]
    },
    {
      "cell_type": "code",
      "execution_count": 6,
      "metadata": {
        "colab": {
          "base_uri": "https://localhost:8080/"
        },
        "id": "MUshtRlaJQWo",
        "outputId": "2974abf3-bafb-4f67-e5f6-cf4f94b5cfb7"
      },
      "outputs": [
        {
          "output_type": "execute_result",
          "data": {
            "text/plain": [
              "dtype('float64')"
            ]
          },
          "metadata": {},
          "execution_count": 6
        }
      ],
      "source": [
        "df['year_of_release'] = df['year_of_release'].astype(float)\n",
        "df['year_of_release'].dtype\n"
      ]
    },
    {
      "cell_type": "markdown",
      "metadata": {
        "id": "ln5ycGECJQWo"
      },
      "source": [
        "#### a coluna user_score esta em format tbd convertendo para float"
      ]
    },
    {
      "cell_type": "code",
      "execution_count": 7,
      "metadata": {
        "colab": {
          "base_uri": "https://localhost:8080/"
        },
        "id": "3Sm7qeVYJQWp",
        "outputId": "0ce6a8a5-c0a9-4f8f-c679-a5c694e4698f"
      },
      "outputs": [
        {
          "output_type": "execute_result",
          "data": {
            "text/plain": [
              "dtype('float64')"
            ]
          },
          "metadata": {},
          "execution_count": 7
        }
      ],
      "source": [
        "df['user_score'] = df['user_score'].replace('tbd', np.nan).astype(float)\n",
        "df['user_score'].dtype"
      ]
    },
    {
      "cell_type": "markdown",
      "metadata": {
        "id": "GJCMoG09JQWp"
      },
      "source": [
        "### coluna name com numeros nulos"
      ]
    },
    {
      "cell_type": "code",
      "source": [
        "from google.colab import drive\n",
        "drive.mount('/content/drive')"
      ],
      "metadata": {
        "colab": {
          "base_uri": "https://localhost:8080/"
        },
        "id": "3_zcZ1oWJk_U",
        "outputId": "6500a5fc-3408-4baf-fca5-e654cbffc921"
      },
      "execution_count": 8,
      "outputs": [
        {
          "output_type": "stream",
          "name": "stdout",
          "text": [
            "Drive already mounted at /content/drive; to attempt to forcibly remount, call drive.mount(\"/content/drive\", force_remount=True).\n"
          ]
        }
      ]
    },
    {
      "cell_type": "code",
      "execution_count": 9,
      "metadata": {
        "colab": {
          "base_uri": "https://localhost:8080/"
        },
        "id": "HPHhd1Y4JQWp",
        "outputId": "170f2eae-5e10-434e-966c-7e70991e3389"
      },
      "outputs": [
        {
          "output_type": "execute_result",
          "data": {
            "text/plain": [
              "2"
            ]
          },
          "metadata": {},
          "execution_count": 9
        }
      ],
      "source": [
        "df['name'].isna().sum()"
      ]
    },
    {
      "cell_type": "markdown",
      "metadata": {
        "id": "I7655hqdJQWp"
      },
      "source": [
        "#### exclusão de linhas nulas ''name''"
      ]
    },
    {
      "cell_type": "code",
      "execution_count": 10,
      "metadata": {
        "id": "10Vrq_AMJQWp"
      },
      "outputs": [],
      "source": [
        "#retirada das linhas nulas name porque não ha como parametrizalas"
      ]
    },
    {
      "cell_type": "code",
      "execution_count": 11,
      "metadata": {
        "colab": {
          "base_uri": "https://localhost:8080/"
        },
        "id": "K8Oy6lkrJQWp",
        "outputId": "6625efe5-6654-40a2-ec16-267324c8fdb6"
      },
      "outputs": [
        {
          "output_type": "execute_result",
          "data": {
            "text/plain": [
              "0"
            ]
          },
          "metadata": {},
          "execution_count": 11
        }
      ],
      "source": [
        "df.dropna(subset=['name'], inplace=True)\n",
        "df['name'].isna().sum()"
      ]
    },
    {
      "cell_type": "markdown",
      "metadata": {
        "id": "kNlldYngJQWp"
      },
      "source": [
        "#### exclusão de linhas nulas ''user_score''"
      ]
    },
    {
      "cell_type": "code",
      "execution_count": 12,
      "metadata": {
        "colab": {
          "base_uri": "https://localhost:8080/"
        },
        "id": "LiZvNitYJQWp",
        "outputId": "f719cf24-9b6e-454a-d84f-ef99efad412e"
      },
      "outputs": [
        {
          "output_type": "execute_result",
          "data": {
            "text/plain": [
              "0"
            ]
          },
          "metadata": {},
          "execution_count": 12
        }
      ],
      "source": [
        "df.dropna(subset=['user_score'], inplace=True)\n",
        "df['user_score'].isna().sum()"
      ]
    },
    {
      "cell_type": "markdown",
      "metadata": {
        "id": "o9y44jCVJQWp"
      },
      "source": [
        "#### Transformação numero nulos coluna ' Year_of_Release' com mesma plataforma"
      ]
    },
    {
      "cell_type": "code",
      "execution_count": 13,
      "metadata": {
        "colab": {
          "base_uri": "https://localhost:8080/"
        },
        "id": "OkMourIEJQWp",
        "outputId": "dd9843de-cce1-4d5d-d437-30999a4dc09b"
      },
      "outputs": [
        {
          "output_type": "execute_result",
          "data": {
            "text/plain": [
              "0"
            ]
          },
          "metadata": {},
          "execution_count": 13
        }
      ],
      "source": [
        "df['year_of_release'] = df.groupby(['platform'])['year_of_release'].transform(lambda x:x.fillna(x.min()))\n",
        "df['year_of_release'].isna().sum()"
      ]
    },
    {
      "cell_type": "markdown",
      "metadata": {
        "id": "VHTtBiEvJQWp"
      },
      "source": [
        "#### Calcule o total de vendas (a soma das vendas em todas as regiões) para cada jogo e coloque esses valores em uma coluna separada."
      ]
    },
    {
      "cell_type": "code",
      "execution_count": 14,
      "metadata": {
        "colab": {
          "base_uri": "https://localhost:8080/"
        },
        "id": "5jI-CFqFJQWp",
        "outputId": "aa91895c-cee7-443e-9064-30fe83180acf"
      },
      "outputs": [
        {
          "output_type": "execute_result",
          "data": {
            "text/plain": [
              "2852.44"
            ]
          },
          "metadata": {},
          "execution_count": 14
        }
      ],
      "source": [
        "#NA_sales (vendas norte-americanas em milhões de USD)\n",
        "vendas_na_sales = df['na_sales'].sum()\n",
        "vendas_na_sales"
      ]
    },
    {
      "cell_type": "code",
      "execution_count": 15,
      "metadata": {
        "colab": {
          "base_uri": "https://localhost:8080/"
        },
        "id": "0X4hYsl8JQWp",
        "outputId": "194d65f1-c9d4-45c0-a7bf-106ca1a34f2f"
      },
      "outputs": [
        {
          "output_type": "execute_result",
          "data": {
            "text/plain": [
              "1706.9399999999998"
            ]
          },
          "metadata": {},
          "execution_count": 15
        }
      ],
      "source": [
        "#EU_sales (vendas na Europa em milhões de USD)\n",
        "vendas_eu_sales = df['eu_sales'].sum()\n",
        "vendas_eu_sales"
      ]
    },
    {
      "cell_type": "code",
      "execution_count": 16,
      "metadata": {
        "colab": {
          "base_uri": "https://localhost:8080/"
        },
        "id": "PwOUrot5JQWp",
        "outputId": "a015e59b-95af-4cf0-8822-de1a81def7d7"
      },
      "outputs": [
        {
          "output_type": "execute_result",
          "data": {
            "text/plain": [
              "448.51"
            ]
          },
          "metadata": {},
          "execution_count": 16
        }
      ],
      "source": [
        "#JP_sales (vendas no Japão em milhões de USD)\n",
        "vendas_jp_sales = df['jp_sales'].sum()\n",
        "vendas_jp_sales"
      ]
    },
    {
      "cell_type": "code",
      "execution_count": 17,
      "metadata": {
        "colab": {
          "base_uri": "https://localhost:8080/"
        },
        "id": "KuBDujIeJQWp",
        "outputId": "6201653d-d511-400f-88e8-0b5fd7e9085f"
      },
      "outputs": [
        {
          "output_type": "execute_result",
          "data": {
            "text/plain": [
              "602.5600000000002"
            ]
          },
          "metadata": {},
          "execution_count": 17
        }
      ],
      "source": [
        "#Other_sales (vendas em outros países em em milhões de USD)\n",
        "vendas_other_sales = df['other_sales'].sum()\n",
        "vendas_other_sales\n"
      ]
    },
    {
      "cell_type": "code",
      "execution_count": 17,
      "metadata": {
        "id": "MV8oppRgJQWp"
      },
      "outputs": [],
      "source": []
    },
    {
      "cell_type": "markdown",
      "metadata": {
        "id": "3rcjtYs2JQWq"
      },
      "source": [
        "## Analise os dados"
      ]
    },
    {
      "cell_type": "markdown",
      "metadata": {
        "id": "YvwCjck6JQWq"
      },
      "source": [
        "### Veja quantos jogos foram lançados em anos diferentes Os dados de cada período são significativos?"
      ]
    },
    {
      "cell_type": "code",
      "execution_count": 18,
      "metadata": {
        "colab": {
          "base_uri": "https://localhost:8080/"
        },
        "id": "c_RlwlwjJQWt",
        "outputId": "0bba30fd-97f9-4642-ac55-d86872802275"
      },
      "outputs": [
        {
          "output_type": "stream",
          "name": "stdout",
          "text": [
            "    year_of_release  count\n",
            "0            1985.0     16\n",
            "1            1988.0      1\n",
            "2            1992.0      1\n",
            "3            1994.0      4\n",
            "4            1996.0      8\n",
            "5            1997.0     18\n",
            "6            1998.0     31\n",
            "7            1999.0     31\n",
            "8            2000.0    143\n",
            "9            2001.0    270\n",
            "10           2002.0    464\n",
            "11           2003.0    516\n",
            "12           2004.0    496\n",
            "13           2005.0    604\n",
            "14           2006.0    580\n",
            "15           2007.0    629\n",
            "16           2008.0    661\n",
            "17           2009.0    614\n",
            "18           2010.0    467\n",
            "19           2011.0    505\n",
            "20           2012.0    339\n",
            "21           2013.0    304\n",
            "22           2014.0    329\n",
            "23           2015.0    297\n",
            "24           2016.0    262\n"
          ]
        }
      ],
      "source": [
        "jogos_por_ano = df.groupby('year_of_release').size().reset_index(name='count')\n",
        "# Exibir o resultado\n",
        "print(jogos_por_ano)"
      ]
    },
    {
      "cell_type": "markdown",
      "metadata": {
        "id": "8xMzCKWlJQWt"
      },
      "source": [
        "### Veja como as vendas variaram de plataforma para plataforma. Escolha as plataformas com as maiores vendas totais e construa uma distribuição com base em dados para cada ano. Encontre as plataformas que costumavam ser populares, mas agora não têm vendas. Quanto tempo leva para as novas plataformas aparecerem e as antigas desaparecerem?"
      ]
    },
    {
      "cell_type": "code",
      "execution_count": 19,
      "metadata": {
        "colab": {
          "base_uri": "https://localhost:8080/"
        },
        "id": "Yo6Ux6DbJQWt",
        "outputId": "78223c43-8882-42f4-b494-01099cbae7e0"
      },
      "outputs": [
        {
          "output_type": "stream",
          "name": "stdout",
          "text": [
            "   platform     min     max  duracao\n",
            "0       3DS  2011.0  2016.0      5.0\n",
            "1        DC  1999.0  2001.0      2.0\n",
            "2        DS  2004.0  2013.0      9.0\n",
            "3       GBA  2001.0  2006.0      5.0\n",
            "4        GC  2001.0  2007.0      6.0\n",
            "5        PC  1985.0  2016.0     31.0\n",
            "6        PS  1994.0  2002.0      8.0\n",
            "7       PS2  2000.0  2011.0     11.0\n",
            "8       PS3  2006.0  2016.0     10.0\n",
            "9       PS4  2013.0  2016.0      3.0\n",
            "10      PSP  2004.0  2013.0      9.0\n",
            "11      PSV  2011.0  2016.0      5.0\n",
            "12      Wii  2006.0  2014.0      8.0\n",
            "13     WiiU  2012.0  2016.0      4.0\n",
            "14     X360  2005.0  2016.0     11.0\n",
            "15       XB  2000.0  2008.0      8.0\n",
            "16     XOne  2013.0  2016.0      3.0\n"
          ]
        }
      ],
      "source": [
        "# Encontrar o primeiro e último ano de vendas para cada plataforma\n",
        "anos_vendas = df.groupby('platform')['year_of_release'].agg(['min', 'max']).reset_index()\n",
        "\n",
        "# Calcular a duração de popularidade de cada plataforma\n",
        "anos_vendas['duracao'] = anos_vendas['max'] - anos_vendas['min']\n",
        "print(anos_vendas)\n"
      ]
    },
    {
      "cell_type": "markdown",
      "metadata": {
        "id": "rkY5fJwdJQWt"
      },
      "source": [
        "### Determine para qual período você deve pegar dados. Para fazê-lo, olhe para suas respostas para as perguntas anteriores. Os dados te deveriam permitir construir um modelo para 2017."
      ]
    },
    {
      "cell_type": "code",
      "execution_count": 20,
      "metadata": {
        "colab": {
          "base_uri": "https://localhost:8080/"
        },
        "id": "mThM3GC5JQWu",
        "outputId": "373f9f35-55d6-4dae-b968-b42f2052ce01"
      },
      "outputs": [
        {
          "output_type": "stream",
          "name": "stdout",
          "text": [
            "Período de dados disponíveis: 1985.0 - 2016.0\n",
            "                                    name platform  year_of_release      genre  \\\n",
            "2                         Mario Kart Wii      Wii           2008.0     Racing   \n",
            "3                      Wii Sports Resort      Wii           2009.0     Sports   \n",
            "8              New Super Mario Bros. Wii      Wii           2009.0   Platform   \n",
            "13                               Wii Fit      Wii           2007.0     Sports   \n",
            "14                    Kinect Adventures!     X360           2010.0       Misc   \n",
            "...                                  ...      ...              ...        ...   \n",
            "16660                   Prison Architect     XOne           2016.0     Action   \n",
            "16692  Metal Gear Solid V: Ground Zeroes       PC           2014.0     Action   \n",
            "16696                             Breach       PC           2011.0    Shooter   \n",
            "16702            STORM: Frontline Nation       PC           2011.0   Strategy   \n",
            "16705                            15 Days       PC           2009.0  Adventure   \n",
            "\n",
            "       na_sales  eu_sales  jp_sales  other_sales  critic_score  user_score  \\\n",
            "2         15.68     12.76      3.79         3.29          82.0         8.3   \n",
            "3         15.61     10.93      3.28         2.95          80.0         8.0   \n",
            "8         14.44      6.94      4.70         2.24          87.0         8.4   \n",
            "13         8.92      8.03      3.60         2.15          80.0         7.7   \n",
            "14        15.00      4.89      0.24         1.69          61.0         6.3   \n",
            "...         ...       ...       ...          ...           ...         ...   \n",
            "16660      0.01      0.00      0.00         0.00          74.0         6.7   \n",
            "16692      0.00      0.01      0.00         0.00          80.0         7.6   \n",
            "16696      0.01      0.00      0.00         0.00          61.0         5.8   \n",
            "16702      0.00      0.01      0.00         0.00          60.0         7.2   \n",
            "16705      0.00      0.01      0.00         0.00          63.0         5.8   \n",
            "\n",
            "      rating  \n",
            "2          E  \n",
            "3          E  \n",
            "8          E  \n",
            "13         E  \n",
            "14         E  \n",
            "...      ...  \n",
            "16660    NaN  \n",
            "16692      M  \n",
            "16696      T  \n",
            "16702   E10+  \n",
            "16705    NaN  \n",
            "\n",
            "[4407 rows x 11 columns]\n"
          ]
        }
      ],
      "source": [
        "# Verificar o primeiro e o último ano de lançamento de jogos no dataset\n",
        "primeiro_ano = df['year_of_release'].min()\n",
        "ultimo_ano = df['year_of_release'].max()\n",
        "\n",
        "# Exibir o período de dados disponíveis\n",
        "print(f\"Período de dados disponíveis: {primeiro_ano} - {ultimo_ano}\")\n",
        "\n",
        "# Selecionar um período relevante para construir o modelo para 2017\n",
        "# Por exemplo, podemos pegar dados dos últimos 10 anos antes de 2017\n",
        "periodo_inicio = 2007\n",
        "periodo_fim = 2016\n",
        "\n",
        "# Filtrar o DataFrame para incluir apenas os anos selecionados\n",
        "df_periodo = df[(df['year_of_release'] >= periodo_inicio) & (df['year_of_release'] <= periodo_fim)]\n",
        "\n",
        "# Exibir o DataFrame filtrado\n",
        "print(df_periodo)\n"
      ]
    },
    {
      "cell_type": "markdown",
      "metadata": {
        "id": "ivkBa4ZUJQWu"
      },
      "source": [
        "### Trabalhar apenas com os dados que você decidiu que são relevantes. Desconsidere os dados de anos anteriores."
      ]
    },
    {
      "cell_type": "code",
      "execution_count": 21,
      "metadata": {
        "colab": {
          "base_uri": "https://localhost:8080/"
        },
        "id": "4g_N3rVlJQWu",
        "outputId": "62102314-8175-4485-f6d0-bc7b1be49bd3"
      },
      "outputs": [
        {
          "output_type": "stream",
          "name": "stdout",
          "text": [
            "                                    name platform  year_of_release  \\\n",
            "42                    Grand Theft Auto V      PS4           2014.0   \n",
            "77                               FIFA 16      PS4           2015.0   \n",
            "92        Call of Duty: Advanced Warfare      PS4           2014.0   \n",
            "94                               FIFA 17      PS4           2016.0   \n",
            "105                            Fallout 4      PS4           2015.0   \n",
            "...                                  ...      ...              ...   \n",
            "16630           Sébastien Loeb Rally Evo     XOne           2016.0   \n",
            "16643                  Rugby Challenge 3     XOne           2016.0   \n",
            "16652                   Fast Racing Neo      WiiU           2016.0   \n",
            "16660                   Prison Architect     XOne           2016.0   \n",
            "16692  Metal Gear Solid V: Ground Zeroes       PC           2014.0   \n",
            "\n",
            "              genre  na_sales  eu_sales  jp_sales  other_sales  critic_score  \\\n",
            "42           Action      3.96      6.31      0.38         1.97          97.0   \n",
            "77           Sports      1.12      6.12      0.06         1.28          82.0   \n",
            "92          Shooter      2.81      3.48      0.14         1.23          83.0   \n",
            "94           Sports      0.66      5.75      0.08         1.11          85.0   \n",
            "105    Role-Playing      2.53      3.27      0.24         1.13          87.0   \n",
            "...             ...       ...       ...       ...          ...           ...   \n",
            "16630        Racing      0.00      0.01      0.00         0.00          63.0   \n",
            "16643        Sports      0.00      0.01      0.00         0.00           NaN   \n",
            "16652        Action      0.00      0.01      0.00         0.00          81.0   \n",
            "16660        Action      0.01      0.00      0.00         0.00          74.0   \n",
            "16692        Action      0.00      0.01      0.00         0.00          80.0   \n",
            "\n",
            "       user_score rating  \n",
            "42            8.3      M  \n",
            "77            4.3      E  \n",
            "92            5.7      M  \n",
            "94            5.0      E  \n",
            "105           6.5      M  \n",
            "...           ...    ...  \n",
            "16630         8.2      E  \n",
            "16643         6.6      E  \n",
            "16652         8.5      E  \n",
            "16660         6.7    NaN  \n",
            "16692         7.6      M  \n",
            "\n",
            "[888 rows x 11 columns]\n"
          ]
        }
      ],
      "source": [
        "# Filtrar o DataFrame para incluir apenas os anos de 2007 a 2016\n",
        "df_relevante = df[(df['year_of_release'] >= 2014) & (df['year_of_release'] <= 2016)]\n",
        "\n",
        "# Exibir o DataFrame filtrado\n",
        "print(df_relevante)\n"
      ]
    },
    {
      "cell_type": "code",
      "execution_count": 22,
      "metadata": {
        "colab": {
          "base_uri": "https://localhost:8080/",
          "height": 739
        },
        "id": "A3JzoKZ2JQWu",
        "outputId": "58aee388-5ed9-47b0-ad12-aeeb4484f824"
      },
      "outputs": [
        {
          "output_type": "execute_result",
          "data": {
            "text/plain": [
              "                                    name platform  year_of_release  \\\n",
              "42                    Grand Theft Auto V      PS4           2014.0   \n",
              "77                               FIFA 16      PS4           2015.0   \n",
              "92        Call of Duty: Advanced Warfare      PS4           2014.0   \n",
              "94                               FIFA 17      PS4           2016.0   \n",
              "105                            Fallout 4      PS4           2015.0   \n",
              "...                                  ...      ...              ...   \n",
              "16630           Sébastien Loeb Rally Evo     XOne           2016.0   \n",
              "16643                  Rugby Challenge 3     XOne           2016.0   \n",
              "16652                   Fast Racing Neo      WiiU           2016.0   \n",
              "16660                   Prison Architect     XOne           2016.0   \n",
              "16692  Metal Gear Solid V: Ground Zeroes       PC           2014.0   \n",
              "\n",
              "              genre  na_sales  eu_sales  jp_sales  other_sales  critic_score  \\\n",
              "42           Action      3.96      6.31      0.38         1.97          97.0   \n",
              "77           Sports      1.12      6.12      0.06         1.28          82.0   \n",
              "92          Shooter      2.81      3.48      0.14         1.23          83.0   \n",
              "94           Sports      0.66      5.75      0.08         1.11          85.0   \n",
              "105    Role-Playing      2.53      3.27      0.24         1.13          87.0   \n",
              "...             ...       ...       ...       ...          ...           ...   \n",
              "16630        Racing      0.00      0.01      0.00         0.00          63.0   \n",
              "16643        Sports      0.00      0.01      0.00         0.00           NaN   \n",
              "16652        Action      0.00      0.01      0.00         0.00          81.0   \n",
              "16660        Action      0.01      0.00      0.00         0.00          74.0   \n",
              "16692        Action      0.00      0.01      0.00         0.00          80.0   \n",
              "\n",
              "       user_score rating  \n",
              "42            8.3      M  \n",
              "77            4.3      E  \n",
              "92            5.7      M  \n",
              "94            5.0      E  \n",
              "105           6.5      M  \n",
              "...           ...    ...  \n",
              "16630         8.2      E  \n",
              "16643         6.6      E  \n",
              "16652         8.5      E  \n",
              "16660         6.7    NaN  \n",
              "16692         7.6      M  \n",
              "\n",
              "[888 rows x 11 columns]"
            ],
            "text/html": [
              "\n",
              "  <div id=\"df-6b05fade-849f-4ec1-beec-ae8a9e9f294c\" class=\"colab-df-container\">\n",
              "    <div>\n",
              "<style scoped>\n",
              "    .dataframe tbody tr th:only-of-type {\n",
              "        vertical-align: middle;\n",
              "    }\n",
              "\n",
              "    .dataframe tbody tr th {\n",
              "        vertical-align: top;\n",
              "    }\n",
              "\n",
              "    .dataframe thead th {\n",
              "        text-align: right;\n",
              "    }\n",
              "</style>\n",
              "<table border=\"1\" class=\"dataframe\">\n",
              "  <thead>\n",
              "    <tr style=\"text-align: right;\">\n",
              "      <th></th>\n",
              "      <th>name</th>\n",
              "      <th>platform</th>\n",
              "      <th>year_of_release</th>\n",
              "      <th>genre</th>\n",
              "      <th>na_sales</th>\n",
              "      <th>eu_sales</th>\n",
              "      <th>jp_sales</th>\n",
              "      <th>other_sales</th>\n",
              "      <th>critic_score</th>\n",
              "      <th>user_score</th>\n",
              "      <th>rating</th>\n",
              "    </tr>\n",
              "  </thead>\n",
              "  <tbody>\n",
              "    <tr>\n",
              "      <th>42</th>\n",
              "      <td>Grand Theft Auto V</td>\n",
              "      <td>PS4</td>\n",
              "      <td>2014.0</td>\n",
              "      <td>Action</td>\n",
              "      <td>3.96</td>\n",
              "      <td>6.31</td>\n",
              "      <td>0.38</td>\n",
              "      <td>1.97</td>\n",
              "      <td>97.0</td>\n",
              "      <td>8.3</td>\n",
              "      <td>M</td>\n",
              "    </tr>\n",
              "    <tr>\n",
              "      <th>77</th>\n",
              "      <td>FIFA 16</td>\n",
              "      <td>PS4</td>\n",
              "      <td>2015.0</td>\n",
              "      <td>Sports</td>\n",
              "      <td>1.12</td>\n",
              "      <td>6.12</td>\n",
              "      <td>0.06</td>\n",
              "      <td>1.28</td>\n",
              "      <td>82.0</td>\n",
              "      <td>4.3</td>\n",
              "      <td>E</td>\n",
              "    </tr>\n",
              "    <tr>\n",
              "      <th>92</th>\n",
              "      <td>Call of Duty: Advanced Warfare</td>\n",
              "      <td>PS4</td>\n",
              "      <td>2014.0</td>\n",
              "      <td>Shooter</td>\n",
              "      <td>2.81</td>\n",
              "      <td>3.48</td>\n",
              "      <td>0.14</td>\n",
              "      <td>1.23</td>\n",
              "      <td>83.0</td>\n",
              "      <td>5.7</td>\n",
              "      <td>M</td>\n",
              "    </tr>\n",
              "    <tr>\n",
              "      <th>94</th>\n",
              "      <td>FIFA 17</td>\n",
              "      <td>PS4</td>\n",
              "      <td>2016.0</td>\n",
              "      <td>Sports</td>\n",
              "      <td>0.66</td>\n",
              "      <td>5.75</td>\n",
              "      <td>0.08</td>\n",
              "      <td>1.11</td>\n",
              "      <td>85.0</td>\n",
              "      <td>5.0</td>\n",
              "      <td>E</td>\n",
              "    </tr>\n",
              "    <tr>\n",
              "      <th>105</th>\n",
              "      <td>Fallout 4</td>\n",
              "      <td>PS4</td>\n",
              "      <td>2015.0</td>\n",
              "      <td>Role-Playing</td>\n",
              "      <td>2.53</td>\n",
              "      <td>3.27</td>\n",
              "      <td>0.24</td>\n",
              "      <td>1.13</td>\n",
              "      <td>87.0</td>\n",
              "      <td>6.5</td>\n",
              "      <td>M</td>\n",
              "    </tr>\n",
              "    <tr>\n",
              "      <th>...</th>\n",
              "      <td>...</td>\n",
              "      <td>...</td>\n",
              "      <td>...</td>\n",
              "      <td>...</td>\n",
              "      <td>...</td>\n",
              "      <td>...</td>\n",
              "      <td>...</td>\n",
              "      <td>...</td>\n",
              "      <td>...</td>\n",
              "      <td>...</td>\n",
              "      <td>...</td>\n",
              "    </tr>\n",
              "    <tr>\n",
              "      <th>16630</th>\n",
              "      <td>Sébastien Loeb Rally Evo</td>\n",
              "      <td>XOne</td>\n",
              "      <td>2016.0</td>\n",
              "      <td>Racing</td>\n",
              "      <td>0.00</td>\n",
              "      <td>0.01</td>\n",
              "      <td>0.00</td>\n",
              "      <td>0.00</td>\n",
              "      <td>63.0</td>\n",
              "      <td>8.2</td>\n",
              "      <td>E</td>\n",
              "    </tr>\n",
              "    <tr>\n",
              "      <th>16643</th>\n",
              "      <td>Rugby Challenge 3</td>\n",
              "      <td>XOne</td>\n",
              "      <td>2016.0</td>\n",
              "      <td>Sports</td>\n",
              "      <td>0.00</td>\n",
              "      <td>0.01</td>\n",
              "      <td>0.00</td>\n",
              "      <td>0.00</td>\n",
              "      <td>NaN</td>\n",
              "      <td>6.6</td>\n",
              "      <td>E</td>\n",
              "    </tr>\n",
              "    <tr>\n",
              "      <th>16652</th>\n",
              "      <td>Fast Racing Neo</td>\n",
              "      <td>WiiU</td>\n",
              "      <td>2016.0</td>\n",
              "      <td>Action</td>\n",
              "      <td>0.00</td>\n",
              "      <td>0.01</td>\n",
              "      <td>0.00</td>\n",
              "      <td>0.00</td>\n",
              "      <td>81.0</td>\n",
              "      <td>8.5</td>\n",
              "      <td>E</td>\n",
              "    </tr>\n",
              "    <tr>\n",
              "      <th>16660</th>\n",
              "      <td>Prison Architect</td>\n",
              "      <td>XOne</td>\n",
              "      <td>2016.0</td>\n",
              "      <td>Action</td>\n",
              "      <td>0.01</td>\n",
              "      <td>0.00</td>\n",
              "      <td>0.00</td>\n",
              "      <td>0.00</td>\n",
              "      <td>74.0</td>\n",
              "      <td>6.7</td>\n",
              "      <td>NaN</td>\n",
              "    </tr>\n",
              "    <tr>\n",
              "      <th>16692</th>\n",
              "      <td>Metal Gear Solid V: Ground Zeroes</td>\n",
              "      <td>PC</td>\n",
              "      <td>2014.0</td>\n",
              "      <td>Action</td>\n",
              "      <td>0.00</td>\n",
              "      <td>0.01</td>\n",
              "      <td>0.00</td>\n",
              "      <td>0.00</td>\n",
              "      <td>80.0</td>\n",
              "      <td>7.6</td>\n",
              "      <td>M</td>\n",
              "    </tr>\n",
              "  </tbody>\n",
              "</table>\n",
              "<p>888 rows × 11 columns</p>\n",
              "</div>\n",
              "    <div class=\"colab-df-buttons\">\n",
              "\n",
              "  <div class=\"colab-df-container\">\n",
              "    <button class=\"colab-df-convert\" onclick=\"convertToInteractive('df-6b05fade-849f-4ec1-beec-ae8a9e9f294c')\"\n",
              "            title=\"Convert this dataframe to an interactive table.\"\n",
              "            style=\"display:none;\">\n",
              "\n",
              "  <svg xmlns=\"http://www.w3.org/2000/svg\" height=\"24px\" viewBox=\"0 -960 960 960\">\n",
              "    <path d=\"M120-120v-720h720v720H120Zm60-500h600v-160H180v160Zm220 220h160v-160H400v160Zm0 220h160v-160H400v160ZM180-400h160v-160H180v160Zm440 0h160v-160H620v160ZM180-180h160v-160H180v160Zm440 0h160v-160H620v160Z\"/>\n",
              "  </svg>\n",
              "    </button>\n",
              "\n",
              "  <style>\n",
              "    .colab-df-container {\n",
              "      display:flex;\n",
              "      gap: 12px;\n",
              "    }\n",
              "\n",
              "    .colab-df-convert {\n",
              "      background-color: #E8F0FE;\n",
              "      border: none;\n",
              "      border-radius: 50%;\n",
              "      cursor: pointer;\n",
              "      display: none;\n",
              "      fill: #1967D2;\n",
              "      height: 32px;\n",
              "      padding: 0 0 0 0;\n",
              "      width: 32px;\n",
              "    }\n",
              "\n",
              "    .colab-df-convert:hover {\n",
              "      background-color: #E2EBFA;\n",
              "      box-shadow: 0px 1px 2px rgba(60, 64, 67, 0.3), 0px 1px 3px 1px rgba(60, 64, 67, 0.15);\n",
              "      fill: #174EA6;\n",
              "    }\n",
              "\n",
              "    .colab-df-buttons div {\n",
              "      margin-bottom: 4px;\n",
              "    }\n",
              "\n",
              "    [theme=dark] .colab-df-convert {\n",
              "      background-color: #3B4455;\n",
              "      fill: #D2E3FC;\n",
              "    }\n",
              "\n",
              "    [theme=dark] .colab-df-convert:hover {\n",
              "      background-color: #434B5C;\n",
              "      box-shadow: 0px 1px 3px 1px rgba(0, 0, 0, 0.15);\n",
              "      filter: drop-shadow(0px 1px 2px rgba(0, 0, 0, 0.3));\n",
              "      fill: #FFFFFF;\n",
              "    }\n",
              "  </style>\n",
              "\n",
              "    <script>\n",
              "      const buttonEl =\n",
              "        document.querySelector('#df-6b05fade-849f-4ec1-beec-ae8a9e9f294c button.colab-df-convert');\n",
              "      buttonEl.style.display =\n",
              "        google.colab.kernel.accessAllowed ? 'block' : 'none';\n",
              "\n",
              "      async function convertToInteractive(key) {\n",
              "        const element = document.querySelector('#df-6b05fade-849f-4ec1-beec-ae8a9e9f294c');\n",
              "        const dataTable =\n",
              "          await google.colab.kernel.invokeFunction('convertToInteractive',\n",
              "                                                    [key], {});\n",
              "        if (!dataTable) return;\n",
              "\n",
              "        const docLinkHtml = 'Like what you see? Visit the ' +\n",
              "          '<a target=\"_blank\" href=https://colab.research.google.com/notebooks/data_table.ipynb>data table notebook</a>'\n",
              "          + ' to learn more about interactive tables.';\n",
              "        element.innerHTML = '';\n",
              "        dataTable['output_type'] = 'display_data';\n",
              "        await google.colab.output.renderOutput(dataTable, element);\n",
              "        const docLink = document.createElement('div');\n",
              "        docLink.innerHTML = docLinkHtml;\n",
              "        element.appendChild(docLink);\n",
              "      }\n",
              "    </script>\n",
              "  </div>\n",
              "\n",
              "\n",
              "<div id=\"df-56f57da5-217b-4cee-9a9f-7930380dddc9\">\n",
              "  <button class=\"colab-df-quickchart\" onclick=\"quickchart('df-56f57da5-217b-4cee-9a9f-7930380dddc9')\"\n",
              "            title=\"Suggest charts\"\n",
              "            style=\"display:none;\">\n",
              "\n",
              "<svg xmlns=\"http://www.w3.org/2000/svg\" height=\"24px\"viewBox=\"0 0 24 24\"\n",
              "     width=\"24px\">\n",
              "    <g>\n",
              "        <path d=\"M19 3H5c-1.1 0-2 .9-2 2v14c0 1.1.9 2 2 2h14c1.1 0 2-.9 2-2V5c0-1.1-.9-2-2-2zM9 17H7v-7h2v7zm4 0h-2V7h2v10zm4 0h-2v-4h2v4z\"/>\n",
              "    </g>\n",
              "</svg>\n",
              "  </button>\n",
              "\n",
              "<style>\n",
              "  .colab-df-quickchart {\n",
              "      --bg-color: #E8F0FE;\n",
              "      --fill-color: #1967D2;\n",
              "      --hover-bg-color: #E2EBFA;\n",
              "      --hover-fill-color: #174EA6;\n",
              "      --disabled-fill-color: #AAA;\n",
              "      --disabled-bg-color: #DDD;\n",
              "  }\n",
              "\n",
              "  [theme=dark] .colab-df-quickchart {\n",
              "      --bg-color: #3B4455;\n",
              "      --fill-color: #D2E3FC;\n",
              "      --hover-bg-color: #434B5C;\n",
              "      --hover-fill-color: #FFFFFF;\n",
              "      --disabled-bg-color: #3B4455;\n",
              "      --disabled-fill-color: #666;\n",
              "  }\n",
              "\n",
              "  .colab-df-quickchart {\n",
              "    background-color: var(--bg-color);\n",
              "    border: none;\n",
              "    border-radius: 50%;\n",
              "    cursor: pointer;\n",
              "    display: none;\n",
              "    fill: var(--fill-color);\n",
              "    height: 32px;\n",
              "    padding: 0;\n",
              "    width: 32px;\n",
              "  }\n",
              "\n",
              "  .colab-df-quickchart:hover {\n",
              "    background-color: var(--hover-bg-color);\n",
              "    box-shadow: 0 1px 2px rgba(60, 64, 67, 0.3), 0 1px 3px 1px rgba(60, 64, 67, 0.15);\n",
              "    fill: var(--button-hover-fill-color);\n",
              "  }\n",
              "\n",
              "  .colab-df-quickchart-complete:disabled,\n",
              "  .colab-df-quickchart-complete:disabled:hover {\n",
              "    background-color: var(--disabled-bg-color);\n",
              "    fill: var(--disabled-fill-color);\n",
              "    box-shadow: none;\n",
              "  }\n",
              "\n",
              "  .colab-df-spinner {\n",
              "    border: 2px solid var(--fill-color);\n",
              "    border-color: transparent;\n",
              "    border-bottom-color: var(--fill-color);\n",
              "    animation:\n",
              "      spin 1s steps(1) infinite;\n",
              "  }\n",
              "\n",
              "  @keyframes spin {\n",
              "    0% {\n",
              "      border-color: transparent;\n",
              "      border-bottom-color: var(--fill-color);\n",
              "      border-left-color: var(--fill-color);\n",
              "    }\n",
              "    20% {\n",
              "      border-color: transparent;\n",
              "      border-left-color: var(--fill-color);\n",
              "      border-top-color: var(--fill-color);\n",
              "    }\n",
              "    30% {\n",
              "      border-color: transparent;\n",
              "      border-left-color: var(--fill-color);\n",
              "      border-top-color: var(--fill-color);\n",
              "      border-right-color: var(--fill-color);\n",
              "    }\n",
              "    40% {\n",
              "      border-color: transparent;\n",
              "      border-right-color: var(--fill-color);\n",
              "      border-top-color: var(--fill-color);\n",
              "    }\n",
              "    60% {\n",
              "      border-color: transparent;\n",
              "      border-right-color: var(--fill-color);\n",
              "    }\n",
              "    80% {\n",
              "      border-color: transparent;\n",
              "      border-right-color: var(--fill-color);\n",
              "      border-bottom-color: var(--fill-color);\n",
              "    }\n",
              "    90% {\n",
              "      border-color: transparent;\n",
              "      border-bottom-color: var(--fill-color);\n",
              "    }\n",
              "  }\n",
              "</style>\n",
              "\n",
              "  <script>\n",
              "    async function quickchart(key) {\n",
              "      const quickchartButtonEl =\n",
              "        document.querySelector('#' + key + ' button');\n",
              "      quickchartButtonEl.disabled = true;  // To prevent multiple clicks.\n",
              "      quickchartButtonEl.classList.add('colab-df-spinner');\n",
              "      try {\n",
              "        const charts = await google.colab.kernel.invokeFunction(\n",
              "            'suggestCharts', [key], {});\n",
              "      } catch (error) {\n",
              "        console.error('Error during call to suggestCharts:', error);\n",
              "      }\n",
              "      quickchartButtonEl.classList.remove('colab-df-spinner');\n",
              "      quickchartButtonEl.classList.add('colab-df-quickchart-complete');\n",
              "    }\n",
              "    (() => {\n",
              "      let quickchartButtonEl =\n",
              "        document.querySelector('#df-56f57da5-217b-4cee-9a9f-7930380dddc9 button');\n",
              "      quickchartButtonEl.style.display =\n",
              "        google.colab.kernel.accessAllowed ? 'block' : 'none';\n",
              "    })();\n",
              "  </script>\n",
              "</div>\n",
              "\n",
              "  <div id=\"id_82a8d3bb-6de4-4b1b-9f2d-7df1531db291\">\n",
              "    <style>\n",
              "      .colab-df-generate {\n",
              "        background-color: #E8F0FE;\n",
              "        border: none;\n",
              "        border-radius: 50%;\n",
              "        cursor: pointer;\n",
              "        display: none;\n",
              "        fill: #1967D2;\n",
              "        height: 32px;\n",
              "        padding: 0 0 0 0;\n",
              "        width: 32px;\n",
              "      }\n",
              "\n",
              "      .colab-df-generate:hover {\n",
              "        background-color: #E2EBFA;\n",
              "        box-shadow: 0px 1px 2px rgba(60, 64, 67, 0.3), 0px 1px 3px 1px rgba(60, 64, 67, 0.15);\n",
              "        fill: #174EA6;\n",
              "      }\n",
              "\n",
              "      [theme=dark] .colab-df-generate {\n",
              "        background-color: #3B4455;\n",
              "        fill: #D2E3FC;\n",
              "      }\n",
              "\n",
              "      [theme=dark] .colab-df-generate:hover {\n",
              "        background-color: #434B5C;\n",
              "        box-shadow: 0px 1px 3px 1px rgba(0, 0, 0, 0.15);\n",
              "        filter: drop-shadow(0px 1px 2px rgba(0, 0, 0, 0.3));\n",
              "        fill: #FFFFFF;\n",
              "      }\n",
              "    </style>\n",
              "    <button class=\"colab-df-generate\" onclick=\"generateWithVariable('df_relevante')\"\n",
              "            title=\"Generate code using this dataframe.\"\n",
              "            style=\"display:none;\">\n",
              "\n",
              "  <svg xmlns=\"http://www.w3.org/2000/svg\" height=\"24px\"viewBox=\"0 0 24 24\"\n",
              "       width=\"24px\">\n",
              "    <path d=\"M7,19H8.4L18.45,9,17,7.55,7,17.6ZM5,21V16.75L18.45,3.32a2,2,0,0,1,2.83,0l1.4,1.43a1.91,1.91,0,0,1,.58,1.4,1.91,1.91,0,0,1-.58,1.4L9.25,21ZM18.45,9,17,7.55Zm-12,3A5.31,5.31,0,0,0,4.9,8.1,5.31,5.31,0,0,0,1,6.5,5.31,5.31,0,0,0,4.9,4.9,5.31,5.31,0,0,0,6.5,1,5.31,5.31,0,0,0,8.1,4.9,5.31,5.31,0,0,0,12,6.5,5.46,5.46,0,0,0,6.5,12Z\"/>\n",
              "  </svg>\n",
              "    </button>\n",
              "    <script>\n",
              "      (() => {\n",
              "      const buttonEl =\n",
              "        document.querySelector('#id_82a8d3bb-6de4-4b1b-9f2d-7df1531db291 button.colab-df-generate');\n",
              "      buttonEl.style.display =\n",
              "        google.colab.kernel.accessAllowed ? 'block' : 'none';\n",
              "\n",
              "      buttonEl.onclick = () => {\n",
              "        google.colab.notebook.generateWithVariable('df_relevante');\n",
              "      }\n",
              "      })();\n",
              "    </script>\n",
              "  </div>\n",
              "\n",
              "    </div>\n",
              "  </div>\n"
            ],
            "application/vnd.google.colaboratory.intrinsic+json": {
              "type": "dataframe",
              "variable_name": "df_relevante",
              "summary": "{\n  \"name\": \"df_relevante\",\n  \"rows\": 888,\n  \"fields\": [\n    {\n      \"column\": \"name\",\n      \"properties\": {\n        \"dtype\": \"category\",\n        \"num_unique_values\": 429,\n        \"samples\": [\n          \"Goat Simulator\",\n          \"WWE 2K16\",\n          \"Hatsune Miku: Project Diva F 2nd\"\n        ],\n        \"semantic_type\": \"\",\n        \"description\": \"\"\n      }\n    },\n    {\n      \"column\": \"platform\",\n      \"properties\": {\n        \"dtype\": \"category\",\n        \"num_unique_values\": 9,\n        \"samples\": [\n          \"Wii\",\n          \"WiiU\",\n          \"3DS\"\n        ],\n        \"semantic_type\": \"\",\n        \"description\": \"\"\n      }\n    },\n    {\n      \"column\": \"year_of_release\",\n      \"properties\": {\n        \"dtype\": \"number\",\n        \"std\": 0.8127679125165264,\n        \"min\": 2014.0,\n        \"max\": 2016.0,\n        \"num_unique_values\": 3,\n        \"samples\": [\n          2014.0,\n          2015.0,\n          2016.0\n        ],\n        \"semantic_type\": \"\",\n        \"description\": \"\"\n      }\n    },\n    {\n      \"column\": \"genre\",\n      \"properties\": {\n        \"dtype\": \"category\",\n        \"num_unique_values\": 12,\n        \"samples\": [\n          \"Puzzle\",\n          \"Adventure\",\n          \"Action\"\n        ],\n        \"semantic_type\": \"\",\n        \"description\": \"\"\n      }\n    },\n    {\n      \"column\": \"na_sales\",\n      \"properties\": {\n        \"dtype\": \"number\",\n        \"std\": 0.4654190942535044,\n        \"min\": 0.0,\n        \"max\": 3.96,\n        \"num_unique_values\": 128,\n        \"samples\": [\n          0.36,\n          1.28,\n          1.4\n        ],\n        \"semantic_type\": \"\",\n        \"description\": \"\"\n      }\n    },\n    {\n      \"column\": \"eu_sales\",\n      \"properties\": {\n        \"dtype\": \"number\",\n        \"std\": 0.5454020434200422,\n        \"min\": 0.0,\n        \"max\": 6.31,\n        \"num_unique_values\": 122,\n        \"samples\": [\n          1.32,\n          0.74,\n          0.55\n        ],\n        \"semantic_type\": \"\",\n        \"description\": \"\"\n      }\n    },\n    {\n      \"column\": \"jp_sales\",\n      \"properties\": {\n        \"dtype\": \"number\",\n        \"std\": 0.13946541384369268,\n        \"min\": 0.0,\n        \"max\": 2.62,\n        \"num_unique_values\": 43,\n        \"samples\": [\n          0.22,\n          0.26,\n          0.47\n        ],\n        \"semantic_type\": \"\",\n        \"description\": \"\"\n      }\n    },\n    {\n      \"column\": \"other_sales\",\n      \"properties\": {\n        \"dtype\": \"number\",\n        \"std\": 0.15543233943865079,\n        \"min\": 0.0,\n        \"max\": 1.97,\n        \"num_unique_values\": 62,\n        \"samples\": [\n          0.1,\n          0.06,\n          1.97\n        ],\n        \"semantic_type\": \"\",\n        \"description\": \"\"\n      }\n    },\n    {\n      \"column\": \"critic_score\",\n      \"properties\": {\n        \"dtype\": \"number\",\n        \"std\": 12.18923277230341,\n        \"min\": 19.0,\n        \"max\": 97.0,\n        \"num_unique_values\": 65,\n        \"samples\": [\n          19.0,\n          25.0,\n          97.0\n        ],\n        \"semantic_type\": \"\",\n        \"description\": \"\"\n      }\n    },\n    {\n      \"column\": \"user_score\",\n      \"properties\": {\n        \"dtype\": \"number\",\n        \"std\": 1.58979201976806,\n        \"min\": 0.2,\n        \"max\": 9.3,\n        \"num_unique_values\": 79,\n        \"samples\": [\n          4.4,\n          8.3,\n          8.7\n        ],\n        \"semantic_type\": \"\",\n        \"description\": \"\"\n      }\n    },\n    {\n      \"column\": \"rating\",\n      \"properties\": {\n        \"dtype\": \"category\",\n        \"num_unique_values\": 4,\n        \"samples\": [\n          \"E\",\n          \"E10+\",\n          \"M\"\n        ],\n        \"semantic_type\": \"\",\n        \"description\": \"\"\n      }\n    }\n  ]\n}"
            }
          },
          "metadata": {},
          "execution_count": 22
        }
      ],
      "source": [
        "#observando dataset\n",
        "df_relevante"
      ]
    },
    {
      "cell_type": "code",
      "execution_count": 23,
      "metadata": {
        "colab": {
          "base_uri": "https://localhost:8080/"
        },
        "id": "xeDIzxhRJQWu",
        "outputId": "e438d13b-4cf7-439d-8fbc-abdd3d462d09"
      },
      "outputs": [
        {
          "output_type": "stream",
          "name": "stderr",
          "text": [
            "<ipython-input-23-603bd0370e19>:3: SettingWithCopyWarning: \n",
            "A value is trying to be set on a copy of a slice from a DataFrame.\n",
            "Try using .loc[row_indexer,col_indexer] = value instead\n",
            "\n",
            "See the caveats in the documentation: https://pandas.pydata.org/pandas-docs/stable/user_guide/indexing.html#returning-a-view-versus-a-copy\n",
            "  df_relevante.loc[:, 'global_sales'] = df_relevante[['na_sales', 'eu_sales', 'jp_sales', 'other_sales']].fillna(0).sum(axis=1)\n"
          ]
        }
      ],
      "source": [
        "#total_vendas em todas as regioes\n",
        "\n",
        "df_relevante.loc[:, 'global_sales'] = df_relevante[['na_sales', 'eu_sales', 'jp_sales', 'other_sales']].fillna(0).sum(axis=1)\n",
        "\n",
        "\n"
      ]
    },
    {
      "cell_type": "markdown",
      "metadata": {
        "id": "9i6cH_FSJQWu"
      },
      "source": [
        "### Quais plataformas estão liderando em vendas?"
      ]
    },
    {
      "cell_type": "code",
      "execution_count": 24,
      "metadata": {
        "colab": {
          "base_uri": "https://localhost:8080/"
        },
        "id": "n0Yy97sQJQWu",
        "outputId": "ece71829-f574-4e85-88f8-5c0b82a0a455"
      },
      "outputs": [
        {
          "output_type": "stream",
          "name": "stdout",
          "text": [
            "  platform  global_sales\n",
            "3      PS4        219.85\n",
            "8     XOne        115.74\n",
            "2      PS3         48.69\n",
            "7     X360         40.84\n",
            "6     WiiU         34.65\n",
            "0      3DS         26.89\n",
            "1       PC         24.08\n",
            "4      PSV         10.80\n",
            "5      Wii          2.57\n"
          ]
        }
      ],
      "source": [
        "# Calcular as vendas totais por plataforma\n",
        "vendas_por_plataforma = df_relevante.groupby('platform')['global_sales'].sum().reset_index()\n",
        "\n",
        "# Ordenar as plataformas pelas vendas totais\n",
        "vendas_por_plataforma = vendas_por_plataforma.sort_values(by='global_sales', ascending=False)\n",
        "\n",
        "# Exibir as plataformas com as maiores vendas totais\n",
        "print(vendas_por_plataforma)\n"
      ]
    },
    {
      "cell_type": "markdown",
      "metadata": {
        "id": "Mb1S8nmRJQWu"
      },
      "source": [
        "### Quais estão crescendo ou diminuindo?"
      ]
    },
    {
      "cell_type": "markdown",
      "metadata": {
        "id": "mZBJzDtPJQWu"
      },
      "source": [
        "#### Calcular as vendas totais por plataforma"
      ]
    },
    {
      "cell_type": "code",
      "execution_count": 25,
      "metadata": {
        "id": "ELrIgGHkJQWu"
      },
      "outputs": [],
      "source": [
        "vendas_por_plataforma = df_relevante.groupby('platform')['global_sales'].sum().reset_index()"
      ]
    },
    {
      "cell_type": "markdown",
      "metadata": {
        "id": "JFXZe3LdJQWu"
      },
      "source": [
        "#### Ordenar as plataformas pelas vendas totais"
      ]
    },
    {
      "cell_type": "code",
      "execution_count": 26,
      "metadata": {
        "id": "NSj-xscyJQWu"
      },
      "outputs": [],
      "source": [
        "vendas_por_plataforma = vendas_por_plataforma.sort_values(by='global_sales', ascending=False)"
      ]
    },
    {
      "cell_type": "markdown",
      "metadata": {
        "id": "dIGDybOsJQWu"
      },
      "source": [
        "#### Agrupar por ano e plataforma, e somar as vendas globais"
      ]
    },
    {
      "cell_type": "code",
      "execution_count": 27,
      "metadata": {
        "id": "W1qvSVVuJQWu"
      },
      "outputs": [],
      "source": [
        "vendas_ano_plataforma = df_relevante.groupby(['year_of_release', 'platform'])['global_sales'].sum().unstack().fillna(0)"
      ]
    },
    {
      "cell_type": "markdown",
      "metadata": {
        "id": "Ddbkh-XDJQWu"
      },
      "source": [
        "#### Calcular a taxa de crescimento anual para cada plataforma"
      ]
    },
    {
      "cell_type": "code",
      "execution_count": 28,
      "metadata": {
        "colab": {
          "base_uri": "https://localhost:8080/"
        },
        "id": "QZM2wY1uJQWu",
        "outputId": "ae46bcde-4f28-4106-a875-5b1a2e7a644f"
      },
      "outputs": [
        {
          "output_type": "stream",
          "name": "stdout",
          "text": [
            "platform              3DS        PC       PS3       PS4       PSV  Wii  \\\n",
            "year_of_release                                                          \n",
            "2014.0           0.000000  0.000000  0.000000  0.000000  0.000000  0.0   \n",
            "2015.0          -0.162304 -0.373729 -0.691688  0.002594 -0.572700 -1.0   \n",
            "2016.0          -0.792857 -0.338295 -0.853021 -0.288566 -0.590278  0.0   \n",
            "\n",
            "platform             WiiU      X360      XOne  \n",
            "year_of_release                                \n",
            "2014.0           0.000000  0.000000  0.000000  \n",
            "2015.0          -0.040000 -0.734844 -0.047993  \n",
            "2016.0          -0.785807 -0.856799 -0.468659  \n"
          ]
        }
      ],
      "source": [
        "taxa_crescimento = vendas_ano_plataforma.pct_change().fillna(0)\n",
        "print(taxa_crescimento)"
      ]
    },
    {
      "cell_type": "code",
      "execution_count": 29,
      "metadata": {
        "colab": {
          "base_uri": "https://localhost:8080/",
          "height": 556
        },
        "id": "0l-355mvJQWu",
        "outputId": "7626884b-50d2-46fa-bfa3-b0820a1a2892"
      },
      "outputs": [
        {
          "output_type": "display_data",
          "data": {
            "text/plain": [
              "<Figure size 1000x600 with 1 Axes>"
            ],
            "image/png": "[encoded data removed]"
          },
          "metadata": {}
        }
      ],
      "source": [
        "#\n",
        "# Cria uma figura para o gráfico\n",
        "plt.figure(figsize=(10, 6))\n",
        "\n",
        "# Plota um gráfico de linha para cada coluna (plataforma)\n",
        "for plataforma in taxa_crescimento.columns:\n",
        "    plt.plot(taxa_crescimento.index, taxa_crescimento[plataforma], label=plataforma)\n",
        "\n",
        "# Adiciona título e rótulos\n",
        "plt.title('Taxa de Crescimento Anual por Plataforma 2014 - 2016')\n",
        "plt.xlabel('Ano de Lançamento')\n",
        "plt.ylabel('Taxa de Crescimento (%)')\n",
        "\n",
        "# Adiciona uma legenda\n",
        "plt.legend(loc='best')\n",
        "\n",
        "# Mostra o gráfico\n",
        "plt.show()\n",
        "\n"
      ]
    },
    {
      "cell_type": "markdown",
      "metadata": {
        "id": "ojY9NtnbJQWv"
      },
      "source": [
        "\n",
        "```python\n",
        "# Calcular vendas totais por plataforma\n",
        "sales_by_platform = recent_years.groupby('platform')['total_sales'].sum().sort_values(ascending=False)\n",
        "\n",
        "print(sales_by_platform)\n",
        "```\n",
        "\n",
        "![image.png](attachment:image.png)"
      ]
    },
    {
      "cell_type": "markdown",
      "metadata": {
        "id": "cLZbi6T_JQWv"
      },
      "source": [
        "#### Selecione várias plataformas potencialmente lucrativas.\n"
      ]
    },
    {
      "cell_type": "code",
      "execution_count": 30,
      "metadata": {
        "colab": {
          "base_uri": "https://localhost:8080/",
          "height": 520
        },
        "id": "NTnrBGSLJQWv",
        "outputId": "78a3eee5-fc0a-4707-f0be-ba4993faed04"
      },
      "outputs": [
        {
          "output_type": "display_data",
          "data": {
            "text/plain": [
              "<Figure size 1000x600 with 1 Axes>"
            ],
            "image/png": "[encoded data removed]"
          },
          "metadata": {}
        }
      ],
      "source": [
        "\n",
        "# Lista de plataformas de interesse\n",
        "plataformas_interesse = ['PS4', 'XOne' ]\n",
        "\n",
        "# Filtrar apenas as plataformas de interesse\n",
        "df_plataformas = taxa_crescimento[plataformas_interesse]\n",
        "\n",
        "# Configura o estilo do gráfico\n",
        "sns.set(style=\"whitegrid\")\n",
        "\n",
        "# Cria uma figura com tamanho maior\n",
        "plt.figure(figsize=(10, 6))\n",
        "\n",
        "# Plota um gráfico de linha para cada plataforma com melhorias visuais\n",
        "for plataforma in df_plataformas.columns:\n",
        "    plt.plot(\n",
        "        df_plataformas.index,  # Eixo X (anos)\n",
        "        df_plataformas[plataforma],  # Eixo Y (taxa de crescimento)\n",
        "        marker='o',  # Adiciona marcadores em cada ponto\n",
        "        linestyle='-',  # Linha contínua\n",
        "        label=plataforma,  # Nome da plataforma na legenda\n",
        "        linewidth=2  # Espessura das linhas\n",
        "    )\n",
        "\n",
        "# Adiciona título e rótulos com fontes maiores\n",
        "plt.title('Taxa de Crescimento Anual - PS4,', fontsize=16, fontweight='bold')\n",
        "plt.xlabel('Ano de Lançamento', fontsize=14)\n",
        "plt.ylabel('Taxa de Crescimento (%)', fontsize=14)\n",
        "\n",
        "# Adiciona uma grade ao fundo\n",
        "plt.grid(True, which='both', linestyle='--', linewidth=0.7, alpha=0.7)\n",
        "\n",
        "# Adiciona uma legenda fora do gráfico\n",
        "plt.legend(title='Plataforma', bbox_to_anchor=(1.05, 1), loc='upper left', fontsize=12)\n",
        "\n",
        "# Ajusta os limites do eixo Y (se necessário)\n",
        "plt.ylim(-1, 2)\n",
        "\n",
        "# Mostra o gráfico\n",
        "plt.tight_layout()\n",
        "plt.show()\n"
      ]
    },
    {
      "cell_type": "markdown",
      "metadata": {
        "id": "iWkuHOMoJQWv"
      },
      "source": [
        "#### Construa um diagrama de caixa para as vendas globais de todos os jogos, divididos por plataforma."
      ]
    },
    {
      "cell_type": "code",
      "execution_count": 31,
      "metadata": {
        "colab": {
          "base_uri": "https://localhost:8080/",
          "height": 434
        },
        "id": "p2fPZ_LiJQWv",
        "outputId": "4154b379-df03-4115-f2d4-393808889085"
      },
      "outputs": [
        {
          "output_type": "display_data",
          "data": {
            "text/plain": [
              "<Figure size 1200x600 with 1 Axes>"
            ],
            "image/png": "[encoded data removed]"
          },
          "metadata": {}
        }
      ],
      "source": [
        "\n",
        "# Criar uma lista única de plataformas\n",
        "plataformas = vendas_por_plataforma['platform'].unique()\n",
        "\n",
        "# Para cada plataforma, extrair as vendas globais\n",
        "vendas_por_plataforma_lista = [vendas_por_plataforma[vendas_por_plataforma['platform'] == plataforma]['global_sales'] for plataforma in plataformas]\n",
        "\n",
        "# Criar o gráfico de diagrama de caixa (boxplot)\n",
        "plt.figure(figsize=(12, 6))\n",
        "plt.boxplot(vendas_por_plataforma_lista, labels=plataformas)\n",
        "\n",
        "\n",
        "plt.title('Distribuição de Vendas Globais por Plataforma', fontsize=16, fontweight='bold')\n",
        "plt.xlabel('Plataforma', fontsize=14)\n",
        "plt.ylabel('Vendas Globais (em milhões)', fontsize=14)\n",
        "\n",
        "# Ajustar os rótulos do eixo X para melhorar a legibilidade\n",
        "plt.xticks(rotation=45, ha='right')\n",
        "\n",
        "# Corrigir para plt.tight_layout() (função completa)\n",
        "plt.tight_layout()\n",
        "\n",
        "plt.show()\n",
        "\n"
      ]
    },
    {
      "cell_type": "markdown",
      "metadata": {
        "id": "r6FPPgXsJQWv"
      },
      "source": [
        "#### As diferenças nas vendas são significativas? E quanto às vendas médias em várias plataformas"
      ]
    },
    {
      "cell_type": "code",
      "execution_count": 32,
      "metadata": {
        "colab": {
          "base_uri": "https://localhost:8080/",
          "height": 902
        },
        "id": "jpqETdqrJQWv",
        "outputId": "59b172d9-685e-4166-fe1d-11a20ffd5954"
      },
      "outputs": [
        {
          "output_type": "stream",
          "name": "stdout",
          "text": [
            "\n",
            "Vendas Totais:\n",
            " platform\n",
            "3DS      26.89\n",
            "PC       24.08\n",
            "PS3      48.69\n",
            "PS4     219.85\n",
            "PSV      10.80\n",
            "Wii       2.57\n",
            "WiiU     34.65\n",
            "X360     40.84\n",
            "XOne    115.74\n",
            "Name: global_sales, dtype: float64 \n",
            "Vendas Médias:\n",
            " platform\n",
            "3DS      26.89\n",
            "PC       24.08\n",
            "PS3      48.69\n",
            "PS4     219.85\n",
            "PSV      10.80\n",
            "Wii       2.57\n",
            "WiiU     34.65\n",
            "X360     40.84\n",
            "XOne    115.74\n",
            "Name: global_sales, dtype: float64\n",
            "\n",
            "Não há dados suficientes para realizar o teste ANOVA.\n"
          ]
        },
        {
          "output_type": "display_data",
          "data": {
            "text/plain": [
              "<Figure size 1200x600 with 2 Axes>"
            ],
            "image/png": "[encoded data removed]"
          },
          "metadata": {}
        }
      ],
      "source": [
        "# Filtrar os dados para incluir apenas as plataformas PS3, X360 e Wii\n",
        "df_ps3 = vendas_por_plataforma[vendas_por_plataforma['platform'] == 'PS3']\n",
        "df_x360 = vendas_por_plataforma[vendas_por_plataforma['platform'] == 'X360']\n",
        "df_wii = vendas_por_plataforma[vendas_por_plataforma['platform'] == 'Wii']\n",
        "\n",
        "# Exclusão dos nulos\n",
        "df_ps3 = df_ps3.dropna(subset=['global_sales'])\n",
        "df_x360 = df_x360.dropna(subset=['global_sales'])\n",
        "df_wii = df_wii.dropna(subset=['global_sales'])\n",
        "\n",
        "# Calcular vendas totais e médias\n",
        "vendas_totais = vendas_por_plataforma.groupby('platform')['global_sales'].sum()\n",
        "vendas_media = vendas_por_plataforma.groupby('platform')['global_sales'].mean()\n",
        "\n",
        "print(\"\\nVendas Totais:\\n\", vendas_totais, \"\\nVendas Médias:\\n\", vendas_media)\n",
        "\n",
        "# Teste de Significância\n",
        "# Verificar se há pelo menos uma plataforma com mais de 1 entrada\n",
        "contagem_por_plataforma = vendas_por_plataforma['platform'].value_counts()\n",
        "if (contagem_por_plataforma >= 2).any():\n",
        "    anova_result = stats.f_oneway(\n",
        "        *[vendas_por_plataforma[vendas_por_plataforma['platform'] == plataforma]['global_sales']\n",
        "          for plataforma in vendas_por_plataforma['platform'].unique()\n",
        "          if contagem_por_plataforma[plataforma] > 1]\n",
        "    )\n",
        "    print(\"\\nResultado do teste ANOVA:\\n F-statistic:\", anova_result.statistic, \"p-value:\", anova_result.pvalue)\n",
        "else:\n",
        "    print(\"\\nNão há dados suficientes para realizar o teste ANOVA.\")\n",
        "\n",
        "# Visualizar os resultados\n",
        "plt.figure(figsize=(12, 6))\n",
        "\n",
        "# Gráfico de Vendas Totais\n",
        "plt.subplot(1, 2, 1)\n",
        "vendas_totais.plot(kind='bar', color='skyblue')\n",
        "plt.title('Vendas Totais por Plataforma')\n",
        "plt.xlabel('Plataforma')\n",
        "plt.ylabel('Vendas Totais (em milhões)')\n",
        "plt.xticks(rotation=45, ha='right')\n",
        "\n",
        "# Gráfico de Vendas Médias\n",
        "plt.subplot(1, 2, 2)\n",
        "vendas_media.plot(kind='bar', color='lightgreen')\n",
        "plt.title('Vendas Médias por Plataforma')\n",
        "plt.xlabel('Plataforma')\n",
        "plt.ylabel('Vendas Médias (em milhões)')\n",
        "plt.xticks(rotation=45, ha='right')\n",
        "\n",
        "plt.tight_layout()\n",
        "plt.show()\n"
      ]
    },
    {
      "cell_type": "markdown",
      "metadata": {
        "id": "MlKFekZcJQWv"
      },
      "source": [
        "### Veja como as avaliações de usuários e profissionais afetam as vendas de uma plataforma popular (você escolhe). Construa um gráfico de dispersão e calcule a correlação entre revisões e vendas. Tire conclusões."
      ]
    },
    {
      "cell_type": "markdown",
      "metadata": {
        "id": "XdJu56FXJQWv"
      },
      "source": [
        "####  Veja como as avaliações de usuários e profissionais afetam as vendas de uma plataforma popular (360)"
      ]
    },
    {
      "cell_type": "code",
      "execution_count": 33,
      "metadata": {
        "colab": {
          "base_uri": "https://localhost:8080/"
        },
        "id": "fs-uQyeMJQWv",
        "outputId": "17a16a9a-d525-4655-830d-6d4041cb3238"
      },
      "outputs": [
        {
          "output_type": "stream",
          "name": "stdout",
          "text": [
            "Correlação entre avaliações de usuários e vendas: -0.138444570945665\n",
            "Correlação entre avaliações de críticos e vendas: 0.5257228356581523\n"
          ]
        }
      ],
      "source": [
        "\n",
        "# Filtrar os dados para incluir apenas o Xbox 360\n",
        "df_xbox360 = df_relevante[df_relevante['platform'] == 'X360']\n",
        "\n",
        "# Analisar a correlação entre as avaliações e as vendas\n",
        "correlacao_user = df_xbox360['user_score'].corr(df_xbox360['global_sales'])\n",
        "correlacao_critic = df_xbox360['critic_score'].corr(df_xbox360['global_sales'])\n",
        "\n",
        "print(f\"Correlação entre avaliações de usuários e vendas: {correlacao_user}\")\n",
        "print(f\"Correlação entre avaliações de críticos e vendas: {correlacao_critic}\")\n",
        "\n",
        "\n"
      ]
    },
    {
      "cell_type": "markdown",
      "metadata": {
        "id": "9uSX_cgqJQWv"
      },
      "source": [
        "#### Construa um gráfico de dispersão e calcule a correlação entre revisões e vendas. Tire conclusões"
      ]
    },
    {
      "cell_type": "code",
      "execution_count": 34,
      "metadata": {
        "colab": {
          "base_uri": "https://localhost:8080/",
          "height": 374
        },
        "id": "mjHMofRXJQWw",
        "outputId": "798449d0-de47-4f6f-ac9a-101e48100b9f"
      },
      "outputs": [
        {
          "output_type": "display_data",
          "data": {
            "text/plain": [
              "<Figure size 1400x600 with 2 Axes>"
            ],
            "image/png": "[encoded data removed]"
          },
          "metadata": {}
        }
      ],
      "source": [
        "# Visualizar a relação entre as avaliações e as vendas\n",
        "plt.figure(figsize=(14, 6))\n",
        "\n",
        "# Gráfico de dispersão para avaliações de usuários\n",
        "plt.subplot(1, 2, 1)\n",
        "sns.scatterplot(x='user_score', y='global_sales', data=df_xbox360)\n",
        "plt.title('Avaliações de Usuários vs Vendas Globais (Xbox 360)')\n",
        "plt.xlabel('Avaliações de Usuários')\n",
        "plt.ylabel('Vendas Globais (em milhões)')\n",
        "\n",
        "# Gráfico de dispersão para avaliações de críticos\n",
        "plt.subplot(1, 2, 2)\n",
        "sns.scatterplot(x='critic_score', y='global_sales', data=df_xbox360)\n",
        "plt.title('Avaliações de Críticos vs Vendas Globais (Xbox 360)')\n",
        "plt.xlabel('Avaliações de Críticos')\n",
        "plt.ylabel('Vendas Globais (em milhões)')\n",
        "\n",
        "plt.tight_layout()\n",
        "plt.show()"
      ]
    },
    {
      "cell_type": "markdown",
      "metadata": {
        "id": "UeZAcsD5JQWw"
      },
      "source": [
        "#### Com essas conclusões em mente, compare as vendas em outras plataformas.\n"
      ]
    },
    {
      "cell_type": "code",
      "execution_count": 35,
      "metadata": {
        "colab": {
          "base_uri": "https://localhost:8080/",
          "height": 635
        },
        "id": "JV9iMbDoJQWw",
        "outputId": "a7b0b1f3-3816-49b5-9334-5a98ac6df761"
      },
      "outputs": [
        {
          "output_type": "stream",
          "name": "stdout",
          "text": [
            "           Correlação entre avaliações e vendas para cada plataforma:\n"
          ]
        },
        {
          "output_type": "display_data",
          "data": {
            "text/plain": [
              "<Figure size 1400x1000 with 10 Axes>"
            ],
            "image/png": "[encoded data removed]"
          },
          "metadata": {}
        }
      ],
      "source": [
        "\n",
        "# Filtrar os dados para incluir apenas as plataformas populares\n",
        "plataformas_populares = ['X360', 'PS3', 'Wii', 'PS4', 'XOne']\n",
        "df_populares = df_relevante[df_relevante['platform'].isin(plataformas_populares)]\n",
        "\n",
        "# Analisar a correlação entre as avaliações e as vendas para cada plataforma\n",
        "correlacoes = {}\n",
        "for plataforma in plataformas_populares:\n",
        "    df_plataforma = df_populares[df_populares['platform'] == plataforma]\n",
        "    correlacao_user = df_plataforma['user_score'].corr(df_plataforma['global_sales'])\n",
        "    correlacao_critic = df_plataforma['critic_score'].corr(df_plataforma['global_sales'])\n",
        "    correlacoes[plataforma] = {'user_score': correlacao_user, 'critic_score': correlacao_critic}\n",
        "\n",
        "print(\"           Correlação entre avaliações e vendas para cada plataforma:\")\n",
        "\n",
        "# Visualizar a relação entre as avaliações e as vendas para cada plataforma\n",
        "plt.figure(figsize=(14, 10))\n",
        "\n",
        "for i, plataforma in enumerate(plataformas_populares, 1):\n",
        "    df_plataforma = df_populares[df_populares['platform'] == plataforma]\n",
        "\n",
        "    plt.subplot(2, len(plataformas_populares), i)\n",
        "    sns.scatterplot(x='user_score', y='global_sales', data=df_plataforma)\n",
        "    plt.title(f'{plataforma} - Usuários')\n",
        "    plt.xlabel('Avaliações de Usuários')\n",
        "    plt.ylabel('Vendas Globais (em milhões)')\n",
        "\n",
        "    plt.subplot(2, len(plataformas_populares), i + len(plataformas_populares))\n",
        "    sns.scatterplot(x='critic_score', y='global_sales', data=df_plataforma)\n",
        "    plt.title(f'{plataforma} - Críticos')\n",
        "    plt.xlabel('Avaliações de Críticos')\n",
        "    plt.ylabel('Vendas Globais (em milhões)')\n",
        "\n",
        "plt.tight_layout()\n",
        "plt.show()\n"
      ]
    },
    {
      "cell_type": "markdown",
      "metadata": {
        "id": "NESXdCB_JQWw"
      },
      "source": [
        "### Dê uma olhada na distribuição geral de jogos por gênero. O que podemos dizer sobre os gêneros mais lucrativos? Você pode generalizar sobre gêneros com vendas altas e baixas?"
      ]
    },
    {
      "cell_type": "markdown",
      "metadata": {
        "id": "ZMvk-BjmJQWw"
      },
      "source": [
        "#### Dê uma olhada na distribuição geral de jogos por gênero"
      ]
    },
    {
      "cell_type": "code",
      "execution_count": 36,
      "metadata": {
        "colab": {
          "base_uri": "https://localhost:8080/",
          "height": 659
        },
        "id": "hRXN3r-XJQWw",
        "outputId": "b89cbdba-ee26-436b-88bb-bfbe8fe8ce92"
      },
      "outputs": [
        {
          "output_type": "display_data",
          "data": {
            "text/plain": [
              "<Figure size 1200x800 with 1 Axes>"
            ],
            "image/png": "[encoded data removed]"
          },
          "metadata": {}
        }
      ],
      "source": [
        "\n",
        "# Contar o número de jogos por gênero\n",
        "jogos_por_genero = df_relevante['genre'].value_counts().reset_index()\n",
        "jogos_por_genero.columns = ['genre', 'count']\n",
        "\n",
        "# Construir o gráfico de barras\n",
        "plt.figure(figsize=(12, 8))\n",
        "plt.bar(jogos_por_genero['genre'], jogos_por_genero['count'], color='blue')\n",
        "plt.title('Distribuição Geral de Jogos por Gênero (2014-2016)')\n",
        "plt.xlabel('Gênero')\n",
        "plt.ylabel('Número de Jogos')\n",
        "plt.xticks(rotation=45)\n",
        "plt.show()\n"
      ]
    },
    {
      "cell_type": "markdown",
      "metadata": {
        "id": "svvj5IQJJQWw"
      },
      "source": [
        "#### O que podemos dizer sobre os gêneros mais lucrativos?"
      ]
    },
    {
      "cell_type": "markdown",
      "metadata": {
        "id": "K5H2212aJQWw"
      },
      "source": [
        "##### Gêneros como Ação, Aventura e Esportes provavelmente estarão no topo da lista, refletindo sua popularidade e capacidade de gerar altas vendas globais"
      ]
    },
    {
      "cell_type": "code",
      "execution_count": 36,
      "metadata": {
        "id": "2h4GV3gzJQWw"
      },
      "outputs": [],
      "source": []
    },
    {
      "cell_type": "markdown",
      "metadata": {
        "id": "7a6iybLzJQWw"
      },
      "source": [
        "## Crie um perfil de usuário para cada região  (AN, UE, JP), determine:"
      ]
    },
    {
      "cell_type": "markdown",
      "metadata": {
        "id": "4wLjV4_-JQWw"
      },
      "source": [
        "### As cinco plataformas principais. Descreva as variações das suas quotas de mercado de região para região."
      ]
    },
    {
      "cell_type": "code",
      "execution_count": 37,
      "metadata": {
        "colab": {
          "base_uri": "https://localhost:8080/",
          "height": 293
        },
        "id": "8TxO3dEEJQWw",
        "outputId": "77ef3a4d-1137-4813-d7cb-fe99055fae4e"
      },
      "outputs": [
        {
          "output_type": "display_data",
          "data": {
            "text/plain": [
              "<Figure size 1800x600 with 1 Axes>"
            ],
            "image/png": "[encoded data removed]"
          },
          "metadata": {}
        }
      ],
      "source": [
        "\n",
        "# Calcular as vendas totais por plataforma em cada região\n",
        "vendas_por_plataforma_regiao = df_relevante.groupby('platform')[['na_sales', 'eu_sales', 'jp_sales']].sum().reset_index()\n",
        "\n",
        "# Selecionar as cinco plataformas com maiores vendas em cada região\n",
        "top_plataformas_na = vendas_por_plataforma_regiao.nlargest(5, 'na_sales')\n",
        "\n",
        "\n",
        "# Plotar as vendas por plataforma em cada região\n",
        "fig, axes = plt.subplots(1, figsize=(18, 6), sharey=True)\n",
        "\n",
        "# América do Norte\n",
        "axes.bar(top_plataformas_na['platform'], top_plataformas_na['na_sales'], color='skyblue')\n",
        "axes.set_title('Top 5 Plataformas na América do Norte 2014-2016')\n",
        "axes.set_xlabel('Plataforma')\n",
        "axes.set_ylabel('Vendas (em milhões)')\n",
        "\n",
        "\n",
        "\n",
        "\n",
        "\n",
        "plt.tight_layout()\n",
        "plt.show()\n"
      ]
    },
    {
      "cell_type": "markdown",
      "metadata": {
        "id": "O5t5jfGwJQWw"
      },
      "source": [
        "#### Variações: Xbox 360 e PS3 dominam, refletindo a popularidade dos consoles de última geração.\n"
      ]
    },
    {
      "cell_type": "code",
      "execution_count": 37,
      "metadata": {
        "id": "r7skJFSlJQWw"
      },
      "outputs": [],
      "source": []
    },
    {
      "cell_type": "code",
      "execution_count": 38,
      "metadata": {
        "colab": {
          "base_uri": "https://localhost:8080/",
          "height": 294
        },
        "id": "gcc0KhGgJQWw",
        "outputId": "3576ef36-8eec-41d2-884c-950c6e8c78c5"
      },
      "outputs": [
        {
          "output_type": "display_data",
          "data": {
            "text/plain": [
              "<Figure size 1800x600 with 1 Axes>"
            ],
            "image/png": "[encoded data removed]"
          },
          "metadata": {}
        }
      ],
      "source": [
        "\n",
        "# Obter as 5 plataformas com as maiores vendas na Europa\n",
        "top_plataformas_jp = vendas_por_plataforma_regiao.nlargest(5, 'eu_sales')\n",
        "\n",
        "# Criar uma figura e eixos para o gráfico\n",
        "fig, ax = plt.subplots(figsize=(18, 6))\n",
        "\n",
        "# Plotar as vendas por plataforma na Europa\n",
        "ax.bar(top_plataformas_jp['platform'], top_plataformas_jp['eu_sales'], color='lightgreen')\n",
        "ax.set_title('Top 5 Plataformas no Europa 2014-2016')\n",
        "ax.set_xlabel('Plataforma')\n",
        "ax.set_ylabel('Vendas na Europa (em milhões)')  # Adicionei um rótulo para o eixo Y\n",
        "\n",
        "# Melhorar o layout\n",
        "plt.xticks(rotation=45, ha='right')  # Rotacionar os rótulos do eixo X para melhor legibilidade\n",
        "plt.tight_layout()\n",
        "\n",
        "# Mostrar o gráfico\n",
        "plt.show()\n"
      ]
    },
    {
      "cell_type": "markdown",
      "metadata": {
        "id": "8J9O9GYpJQWx"
      },
      "source": [
        "#### Variações: PS3 e Xbox 360 também são populares, mas o PC tem uma presença mais forte em comparação com a América do Norte."
      ]
    },
    {
      "cell_type": "code",
      "execution_count": 38,
      "metadata": {
        "id": "ndJS0flYJQWx"
      },
      "outputs": [],
      "source": []
    },
    {
      "cell_type": "code",
      "execution_count": 39,
      "metadata": {
        "colab": {
          "base_uri": "https://localhost:8080/",
          "height": 294
        },
        "id": "WFCe7Ft5JQWx",
        "outputId": "d1f1aa36-5064-4dbe-b1c9-c9e53775dae7"
      },
      "outputs": [
        {
          "output_type": "display_data",
          "data": {
            "text/plain": [
              "<Figure size 1800x600 with 1 Axes>"
            ],
            "image/png": "[encoded data removed]"
          },
          "metadata": {}
        }
      ],
      "source": [
        "\n",
        "# Obter as 5 plataformas com as maiores vendas no Japão\n",
        "top_plataformas_jp = vendas_por_plataforma_regiao.nlargest(5, 'jp_sales')\n",
        "\n",
        "# Criar uma figura e eixos para o gráfico\n",
        "fig, ax = plt.subplots(figsize=(18, 6))\n",
        "\n",
        "# Plotar as vendas por plataforma no Japão\n",
        "ax.bar(top_plataformas_jp['platform'], top_plataformas_jp['jp_sales'], color='lightcoral')\n",
        "ax.set_title('Top 5 Plataformas no Japão 2014-2016')\n",
        "ax.set_xlabel('Plataforma')\n",
        "ax.set_ylabel('Vendas no Japão (em milhões)')  # Adicionei um rótulo para o eixo Y\n",
        "\n",
        "# Melhorar o layout\n",
        "plt.xticks(rotation=45, ha='right')  # Rotacionar os rótulos do eixo X para melhor legibilidade\n",
        "plt.tight_layout()\n",
        "\n",
        "# Mostrar o gráfico\n",
        "plt.show()\n"
      ]
    },
    {
      "cell_type": "markdown",
      "metadata": {
        "id": "O9MxDoQAJQWx"
      },
      "source": [
        "#### Variações: Consoles portáteis como DS e PSP são extremamente populares, refletindo a preferência por jogos móveis no Japão"
      ]
    },
    {
      "cell_type": "code",
      "execution_count": 39,
      "metadata": {
        "id": "AXztuAhMJQWx"
      },
      "outputs": [],
      "source": []
    },
    {
      "cell_type": "markdown",
      "metadata": {
        "id": "Fl22O8GaJQWx"
      },
      "source": [
        "### As classificações do ESRB afetam as vendas em regiões individuais?"
      ]
    },
    {
      "cell_type": "code",
      "execution_count": 40,
      "metadata": {
        "id": "fFREvr5NJQWx"
      },
      "outputs": [],
      "source": [
        "# E (Everyone)  Adequado para todas as idades. Pode conter violência leve e linguagem mínima.\n",
        "# E10+ (Everyone 10 and older) Adequado para crianças de 10 anos ou mais. Pode conter mais violência\n",
        "# T (Teen), M (Mature 17+)  Adequado para adolescentes de 13 anos ou mais.\n",
        "# M (Mature 17+) Adequado para maiores de 17 anos.\n",
        "# AO (Adults Only 18+) Adequado apenas para adultos. Pode incluir violência\n",
        "# RP (Rating Pending)  Aguardando classificação final. Usado em materiais promocionais"
      ]
    },
    {
      "cell_type": "code",
      "execution_count": 41,
      "metadata": {
        "colab": {
          "base_uri": "https://localhost:8080/",
          "height": 293
        },
        "id": "lTtSz1WPJQWx",
        "outputId": "c600de49-c077-425b-a4d2-dd6d78a0c76a"
      },
      "outputs": [
        {
          "output_type": "display_data",
          "data": {
            "text/plain": [
              "<Figure size 1800x600 with 3 Axes>"
            ],
            "image/png": "[encoded data removed]"
          },
          "metadata": {}
        }
      ],
      "source": [
        "\n",
        "# Supondo que os dados estejam em um DataFrame chamado df_relevante\n",
        "# Filtrar os dados para incluir apenas as colunas relevantes\n",
        "df_esrb = df_relevante[['platform', 'genre', 'na_sales', 'eu_sales', 'jp_sales', 'global_sales', 'rating']]\n",
        "\n",
        "# Agrupar as vendas por classificação ESRB\n",
        "vendas_por_classificacao = df_esrb.groupby('rating')[['na_sales', 'eu_sales', 'jp_sales', 'global_sales']].sum().reset_index()\n",
        "\n",
        "# Plotar as vendas por classificação ESRB em cada região\n",
        "fig, axes = plt.subplots(1, 3, figsize=(18, 6), sharey=True)\n",
        "\n",
        "# América do Norte\n",
        "axes[0].bar(vendas_por_classificacao['rating'], vendas_por_classificacao['na_sales'], color='skyblue')\n",
        "axes[0].set_title('Vendas por Classificação ESRB na América do Norte')\n",
        "axes[0].set_xlabel('Classificação ESRB')\n",
        "axes[0].set_ylabel('Vendas (em milhões)')\n",
        "\n",
        "# Europa\n",
        "axes[1].bar(vendas_por_classificacao['rating'], vendas_por_classificacao['eu_sales'], color='lightgreen')\n",
        "axes[1].set_title('Vendas por Classificação ESRB na Europa')\n",
        "axes[1].set_xlabel('Classificação ESRB')\n",
        "\n",
        "# Japão\n",
        "axes[2].bar(vendas_por_classificacao['rating'], vendas_por_classificacao['jp_sales'], color='lightcoral')\n",
        "axes[2].set_title('Vendas por Classificação ESRB no Japão')\n",
        "axes[2].set_xlabel('Classificação ESRB')\n",
        "\n",
        "plt.tight_layout()\n",
        "plt.show()\n"
      ]
    },
    {
      "cell_type": "markdown",
      "metadata": {
        "id": "UE0x5VqQJQWx"
      },
      "source": [
        "#### As classificações do ESRB podem influenciar de acordo com região jogos om classificação \"M\"  adequado para maiores de 17 anos constrata com publico jovem que gostam de jogos de guerra"
      ]
    },
    {
      "cell_type": "markdown",
      "metadata": {
        "id": "icS10VyeJQWx"
      },
      "source": [
        "## Teste as seguintes hipóteses"
      ]
    },
    {
      "cell_type": "markdown",
      "metadata": {
        "id": "Blsa6v0hJQWx"
      },
      "source": [
        "###  As classificações médias dos usuários das plataformas Xbox One e PC são as mesmas"
      ]
    },
    {
      "cell_type": "code",
      "execution_count": 42,
      "metadata": {
        "colab": {
          "base_uri": "https://localhost:8080/"
        },
        "id": "snDV1KSwJQWx",
        "outputId": "de50007b-ff5b-4f12-e9b5-11414e94c910"
      },
      "outputs": [
        {
          "output_type": "stream",
          "name": "stdout",
          "text": [
            "Classificação média dos usuários para Xbox One: 6.594545454545456\n",
            "Classificação média dos usuários para PC: 6.298360655737705\n",
            "\n",
            "\n",
            "As classificações médias dos usuários para Xbox One e PC são diferentes.\n"
          ]
        }
      ],
      "source": [
        "import pandas as pd\n",
        "\n",
        "# Supondo que os dados estejam em um DataFrame chamado df_relevante\n",
        "# Filtrar os dados para incluir apenas as plataformas Xbox One e PC\n",
        "df_xbox_one = df_relevante[df_relevante['platform'] == 'XOne']\n",
        "df_pc = df_relevante[df_relevante['platform'] == 'PC']\n",
        "\n",
        "# Calcular as classificações médias dos usuários para cada plataforma\n",
        "media_user_xbox_one = df_xbox_one['user_score'].mean()\n",
        "media_user_pc = df_pc['user_score'].mean()\n",
        "\n",
        "print(f\"Classificação média dos usuários para Xbox One: {media_user_xbox_one}\")\n",
        "print(f\"Classificação média dos usuários para PC: {media_user_pc}\")\n",
        "\n",
        "print(\"\\n\")\n",
        "\n",
        "# Verificar se as classificações médias são as mesmas\n",
        "if media_user_xbox_one == media_user_pc:\n",
        "    print(\"As classificações médias dos usuários para Xbox One e PC são as mesmas.\")\n",
        "else:\n",
        "    print(\"As classificações médias dos usuários para Xbox One e PC são diferentes.\")\n"
      ]
    },
    {
      "cell_type": "markdown",
      "metadata": {
        "id": "zT_-RPvZJQWx"
      },
      "source": [
        "### As classificações médias de usuários para os gêneros Action (ação) e Sports (esportes) são diferentes."
      ]
    },
    {
      "cell_type": "code",
      "execution_count": 43,
      "metadata": {
        "colab": {
          "base_uri": "https://localhost:8080/"
        },
        "id": "YNABi2YwJQWx",
        "outputId": "694e1934-bf58-4d09-d828-9977261a9a63"
      },
      "outputs": [
        {
          "output_type": "stream",
          "name": "stdout",
          "text": [
            "Classificação média dos usuários para Action: 6.760606060606061\n",
            "Classificação média dos usuários para Sports: 5.2251968503937\n",
            "\n",
            "\n",
            "As classificações médias dos usuários para Action e Sports são diferentes.\n"
          ]
        }
      ],
      "source": [
        "# Filtrar os dados para incluir apenas os gêneros Action e Sports\n",
        "df_action = df_relevante[df_relevante['genre'] == 'Action']\n",
        "df_sports = df_relevante[df_relevante['genre'] == 'Sports']\n",
        "\n",
        "# Exclusão dos nulos\n",
        "df_action = df_action.dropna(subset=['user_score'])\n",
        "df_sports = df_sports.dropna(subset=['user_score'])\n",
        "\n",
        "# Calcular as classificações médias dos usuários para cada gênero\n",
        "media_user_action = df_action['user_score'].mean()\n",
        "media_user_sports = df_sports['user_score'].mean()\n",
        "\n",
        "print(f\"Classificação média dos usuários para Action: {media_user_action}\")\n",
        "print(f\"Classificação média dos usuários para Sports: {media_user_sports}\")\n",
        "\n",
        "print(\"\\n\")\n",
        "\n",
        "# Verificar se as classificações médias são diferentes\n",
        "if media_user_action != media_user_sports:\n",
        "    print(\"As classificações médias dos usuários para Action e Sports são diferentes.\")\n",
        "else:\n",
        "    print(\"As classificações médias dos usuários para Action e Sports são as mesmas.\")\n"
      ]
    },
    {
      "cell_type": "markdown",
      "metadata": {
        "id": "CnJYAzXgJQWx"
      },
      "source": [
        "### Defina o valor do limiar alfa você mesmo."
      ]
    },
    {
      "cell_type": "markdown",
      "metadata": {
        "id": "3pBkNyRvJQWx"
      },
      "source": [
        "#### liminar alfa = 0,05 ou 5%"
      ]
    },
    {
      "cell_type": "markdown",
      "metadata": {
        "id": "mAOI-0ToJQWx"
      },
      "source": [
        "### Como você formula as hipóteses alternativas e nulas"
      ]
    },
    {
      "cell_type": "code",
      "execution_count": null,
      "metadata": {
        "id": "PG7AkYHYJQWy"
      },
      "outputs": [],
      "source": [
        "user_scores_action.head()"
      ]
    },
    {
      "cell_type": "code",
      "execution_count": 46,
      "metadata": {
        "colab": {
          "base_uri": "https://localhost:8080/"
        },
        "id": "FEMfergsJQWy",
        "outputId": "d077f59f-8dd0-4372-8d05-2268d1661619"
      },
      "outputs": [
        {
          "output_type": "stream",
          "name": "stdout",
          "text": [
            "Valor de p: 2.871114798510586e-19\n",
            "Rejeitamos a hipótese nula. As classificações médias dos usuários para Action e Sports são diferentes.\n"
          ]
        }
      ],
      "source": [
        "\n",
        "user_scores_action = df_action['user_score']\n",
        "user_scores_sports = df_sports['user_score']\n",
        "\n",
        "# Definir o valor do limiar alfa\n",
        "alpha = 0.005\n",
        "\n",
        "# Realizar o teste t para amostras independentes\n",
        "t_stat, p_value = stats.ttest_ind(user_scores_action, user_scores_sports)\n",
        "\n",
        "print(f\"Valor de p: {p_value}\")\n",
        "\n",
        "# Comparar o valor de p com o limiar alfa\n",
        "if p_value < alpha:\n",
        "    print(\"Rejeitamos a hipótese nula. As classificações médias dos usuários para Action e Sports são diferentes.\")\n",
        "else:\n",
        "    print(\"Não rejeitamos a hipótese nula. As classificações médias dos usuários para Action e Sports são as mesmas.\")\n"
      ]
    },
    {
      "cell_type": "markdown",
      "metadata": {
        "id": "N2gLhx6iJQWy"
      },
      "source": [
        "### Quais critérios você usou para testar as hipóteses, e por quê"
      ]
    },
    {
      "cell_type": "markdown",
      "metadata": {
        "id": "aIPM1VNxJQWy"
      },
      "source": [
        "#### Indica a probabilidade de obter os resultados observados, ou mais extremos, se a hipótese nula for verdadeira. Um valor-p menor que α indica que rejeitamos a hipótese nula"
      ]
    },
    {
      "cell_type": "markdown",
      "metadata": {
        "id": "C6JvR-pKJQWy"
      },
      "source": [
        "####  Se o valor-p for menor que α, rejeitamos a hipótese nula e aceitamos a hipótese alternativa."
      ]
    },
    {
      "cell_type": "markdown",
      "metadata": {
        "id": "IdzMnTzuJQWy"
      },
      "source": [
        "##  Escreva uma conclusão geral"
      ]
    },
    {
      "cell_type": "markdown",
      "metadata": {
        "id": "z6oKdavsJQWy"
      },
      "source": [
        "### Projeto completo, apresentando o desafio de realizar uma análise de dados que se aproxima da realidade de uma empresa. O objetivo é avaliar a relevância dos produtos vendidos no mercado e, a partir dessa análise, maximizar os lucros. Com essa abordagem, conseguimos identificar oportunidades e estratégias para otimizar o desempenho comercial.\"\n",
        "\n"
      ]
    }
  ],
  "metadata": {
    "ExecuteTimeLog": [
      {
        "duration": 459,
        "start_time": "2024-09-15T22:38:57.714Z"
      },
      {
        "duration": 2285,
        "start_time": "2024-09-15T22:39:06.794Z"
      },
      {
        "duration": 3,
        "start_time": "2024-09-15T22:39:13.481Z"
      },
      {
        "duration": 279,
        "start_time": "2024-09-15T22:40:02.920Z"
      },
      {
        "duration": 23,
        "start_time": "2024-09-15T22:40:24.319Z"
      },
      {
        "duration": 32,
        "start_time": "2024-09-15T22:40:33.769Z"
      },
      {
        "duration": 30,
        "start_time": "2024-09-15T22:40:42.572Z"
      },
      {
        "duration": 12,
        "start_time": "2024-09-15T22:40:50.824Z"
      },
      {
        "duration": 2498,
        "start_time": "2024-09-17T15:15:40.258Z"
      },
      {
        "duration": 61,
        "start_time": "2024-09-17T15:15:42.758Z"
      },
      {
        "duration": 3,
        "start_time": "2024-09-17T16:45:16.993Z"
      },
      {
        "duration": 3,
        "start_time": "2024-09-17T17:21:31.944Z"
      },
      {
        "duration": 2,
        "start_time": "2024-09-17T17:21:35.442Z"
      },
      {
        "duration": 12,
        "start_time": "2024-09-17T17:22:24.753Z"
      },
      {
        "duration": 2,
        "start_time": "2024-09-17T17:22:58.444Z"
      },
      {
        "duration": 30,
        "start_time": "2024-09-17T17:22:59.789Z"
      },
      {
        "duration": 160,
        "start_time": "2024-09-18T13:53:56.812Z"
      },
      {
        "duration": 2690,
        "start_time": "2024-09-18T13:54:07.220Z"
      },
      {
        "duration": 50,
        "start_time": "2024-09-18T13:54:09.912Z"
      },
      {
        "duration": 12,
        "start_time": "2024-09-18T13:54:10.543Z"
      },
      {
        "duration": 483,
        "start_time": "2024-09-18T13:54:12.741Z"
      },
      {
        "duration": 45,
        "start_time": "2024-09-18T13:54:52.080Z"
      },
      {
        "duration": 44,
        "start_time": "2024-09-18T13:54:57.460Z"
      },
      {
        "duration": 47,
        "start_time": "2024-09-18T13:55:04.013Z"
      },
      {
        "duration": 48,
        "start_time": "2024-09-18T13:55:15.980Z"
      },
      {
        "duration": 51,
        "start_time": "2024-09-18T13:56:28.029Z"
      },
      {
        "duration": 5,
        "start_time": "2024-09-18T13:56:43.202Z"
      },
      {
        "duration": 5,
        "start_time": "2024-09-18T13:56:55.472Z"
      },
      {
        "duration": 5,
        "start_time": "2024-09-18T13:57:26.975Z"
      },
      {
        "duration": 3,
        "start_time": "2024-09-18T13:59:57.095Z"
      },
      {
        "duration": 18,
        "start_time": "2024-09-18T14:00:02.869Z"
      },
      {
        "duration": 3,
        "start_time": "2024-09-18T14:01:45.279Z"
      },
      {
        "duration": 43,
        "start_time": "2024-09-18T14:01:47.223Z"
      },
      {
        "duration": 12,
        "start_time": "2024-09-18T14:01:49.555Z"
      },
      {
        "duration": 17,
        "start_time": "2024-09-18T14:01:51.285Z"
      },
      {
        "duration": 48,
        "start_time": "2024-09-18T14:01:52.051Z"
      },
      {
        "duration": 25,
        "start_time": "2024-09-18T14:18:20.067Z"
      },
      {
        "duration": 6,
        "start_time": "2024-09-18T14:18:26.242Z"
      },
      {
        "duration": 33,
        "start_time": "2024-09-18T14:18:36.232Z"
      },
      {
        "duration": 3,
        "start_time": "2024-09-18T14:31:24.469Z"
      },
      {
        "duration": 32,
        "start_time": "2024-09-18T14:31:25.516Z"
      },
      {
        "duration": 13,
        "start_time": "2024-09-18T14:31:28.259Z"
      },
      {
        "duration": 51,
        "start_time": "2024-09-18T14:32:34.088Z"
      },
      {
        "duration": 45,
        "start_time": "2024-09-18T14:35:28.039Z"
      },
      {
        "duration": 46,
        "start_time": "2024-09-18T14:36:11.186Z"
      },
      {
        "duration": 16,
        "start_time": "2024-09-18T14:36:26.971Z"
      },
      {
        "duration": 594,
        "start_time": "2024-09-18T14:37:04.603Z"
      },
      {
        "duration": 290,
        "start_time": "2024-09-18T14:38:47.264Z"
      },
      {
        "duration": 53,
        "start_time": "2024-09-18T14:39:18.096Z"
      },
      {
        "duration": 3,
        "start_time": "2024-09-18T14:40:19.065Z"
      },
      {
        "duration": 49,
        "start_time": "2024-09-18T14:40:44.214Z"
      },
      {
        "duration": 45,
        "start_time": "2024-09-18T14:50:28.570Z"
      },
      {
        "duration": 43,
        "start_time": "2024-09-18T14:51:15.535Z"
      },
      {
        "duration": 47,
        "start_time": "2024-09-18T14:51:54.977Z"
      },
      {
        "duration": 15,
        "start_time": "2024-09-18T14:52:04.257Z"
      },
      {
        "duration": 7,
        "start_time": "2024-09-18T14:52:16.245Z"
      },
      {
        "duration": 49,
        "start_time": "2024-09-18T14:53:05.442Z"
      },
      {
        "duration": 51,
        "start_time": "2024-09-18T14:54:34.535Z"
      },
      {
        "duration": 4,
        "start_time": "2024-09-18T14:56:25.178Z"
      },
      {
        "duration": 159,
        "start_time": "2024-09-23T17:22:18.023Z"
      },
      {
        "duration": 2520,
        "start_time": "2024-09-23T17:22:27.204Z"
      },
      {
        "duration": 48,
        "start_time": "2024-09-23T17:22:29.726Z"
      },
      {
        "duration": 11,
        "start_time": "2024-09-23T17:22:29.775Z"
      },
      {
        "duration": 3,
        "start_time": "2024-09-23T17:22:29.787Z"
      },
      {
        "duration": 769,
        "start_time": "2024-09-23T17:22:29.792Z"
      },
      {
        "duration": 5,
        "start_time": "2024-09-23T17:22:30.673Z"
      },
      {
        "duration": 6,
        "start_time": "2024-09-23T17:22:42.955Z"
      },
      {
        "duration": 5,
        "start_time": "2024-09-23T17:22:50.165Z"
      },
      {
        "duration": 13,
        "start_time": "2024-09-23T17:25:02.156Z"
      },
      {
        "duration": 13,
        "start_time": "2024-09-23T17:25:15.323Z"
      },
      {
        "duration": 9,
        "start_time": "2024-09-23T17:25:46.242Z"
      },
      {
        "duration": 47,
        "start_time": "2024-09-23T17:25:58.237Z"
      },
      {
        "duration": 9,
        "start_time": "2024-09-23T17:32:29.264Z"
      },
      {
        "duration": 4,
        "start_time": "2024-09-23T17:37:30.320Z"
      },
      {
        "duration": 5,
        "start_time": "2024-09-23T17:38:00.553Z"
      },
      {
        "duration": 7,
        "start_time": "2024-09-23T17:43:49.994Z"
      },
      {
        "duration": 58,
        "start_time": "2024-09-23T17:47:52.075Z"
      },
      {
        "duration": 7,
        "start_time": "2024-09-23T17:48:37.929Z"
      },
      {
        "duration": 5,
        "start_time": "2024-09-23T17:48:47.468Z"
      },
      {
        "duration": 14,
        "start_time": "2024-09-23T17:49:10.250Z"
      },
      {
        "duration": 4,
        "start_time": "2024-09-23T17:49:24.114Z"
      },
      {
        "duration": 5,
        "start_time": "2024-09-23T17:49:37.453Z"
      },
      {
        "duration": 2,
        "start_time": "2024-09-23T18:19:56.115Z"
      },
      {
        "duration": 32,
        "start_time": "2024-09-23T18:19:56.714Z"
      },
      {
        "duration": 11,
        "start_time": "2024-09-23T18:19:58.116Z"
      },
      {
        "duration": 31,
        "start_time": "2024-09-23T18:43:08.963Z"
      },
      {
        "duration": 11,
        "start_time": "2024-09-23T18:43:11.391Z"
      },
      {
        "duration": 2547,
        "start_time": "2024-09-23T20:36:11.394Z"
      },
      {
        "duration": 53,
        "start_time": "2024-09-23T20:36:13.943Z"
      },
      {
        "duration": 11,
        "start_time": "2024-09-23T20:36:14.303Z"
      },
      {
        "duration": 3,
        "start_time": "2024-09-23T20:36:15.479Z"
      },
      {
        "duration": 5,
        "start_time": "2024-09-23T20:36:16.918Z"
      },
      {
        "duration": 7,
        "start_time": "2024-09-23T20:36:19.054Z"
      },
      {
        "duration": 5,
        "start_time": "2024-09-23T20:36:20.794Z"
      },
      {
        "duration": 17,
        "start_time": "2024-09-23T20:36:22.542Z"
      },
      {
        "duration": 218,
        "start_time": "2024-09-23T20:36:23.863Z"
      },
      {
        "duration": 9,
        "start_time": "2024-09-23T20:36:49.432Z"
      },
      {
        "duration": 15,
        "start_time": "2024-09-23T20:37:05.497Z"
      },
      {
        "duration": 3,
        "start_time": "2024-09-23T20:37:33.873Z"
      },
      {
        "duration": 353,
        "start_time": "2024-09-23T20:38:08.263Z"
      },
      {
        "duration": 43,
        "start_time": "2024-09-23T20:39:05.319Z"
      },
      {
        "duration": 41,
        "start_time": "2024-09-23T20:39:15.504Z"
      },
      {
        "duration": 7,
        "start_time": "2024-09-23T20:40:02.150Z"
      },
      {
        "duration": 42,
        "start_time": "2024-09-23T20:40:09.873Z"
      },
      {
        "duration": 42,
        "start_time": "2024-09-23T20:40:44.386Z"
      },
      {
        "duration": 9,
        "start_time": "2024-09-23T20:41:20.835Z"
      },
      {
        "duration": 43,
        "start_time": "2024-09-23T20:42:46.340Z"
      },
      {
        "duration": 43,
        "start_time": "2024-09-23T20:42:58.629Z"
      },
      {
        "duration": 10,
        "start_time": "2024-09-23T20:44:07.727Z"
      },
      {
        "duration": 41,
        "start_time": "2024-09-23T20:44:10.645Z"
      },
      {
        "duration": 209,
        "start_time": "2024-09-23T20:44:24.921Z"
      },
      {
        "duration": 24,
        "start_time": "2024-09-23T20:44:26.977Z"
      },
      {
        "duration": 2810,
        "start_time": "2024-09-23T20:44:41.143Z"
      },
      {
        "duration": 3000,
        "start_time": "2024-09-23T20:47:02.417Z"
      },
      {
        "duration": 1913,
        "start_time": "2024-09-23T20:49:11.474Z"
      },
      {
        "duration": 12,
        "start_time": "2024-09-23T20:50:48.519Z"
      },
      {
        "duration": 13,
        "start_time": "2024-09-23T20:50:51.757Z"
      },
      {
        "duration": 14,
        "start_time": "2024-09-23T20:51:23.011Z"
      },
      {
        "duration": 14,
        "start_time": "2024-09-23T20:51:32.944Z"
      },
      {
        "duration": 15,
        "start_time": "2024-09-23T20:52:06.390Z"
      },
      {
        "duration": 2752,
        "start_time": "2024-10-01T17:05:33.203Z"
      },
      {
        "duration": 51,
        "start_time": "2024-10-01T17:05:35.957Z"
      },
      {
        "duration": 12,
        "start_time": "2024-10-01T17:05:36.011Z"
      },
      {
        "duration": 3,
        "start_time": "2024-10-01T17:05:36.025Z"
      },
      {
        "duration": 5,
        "start_time": "2024-10-01T17:05:36.923Z"
      },
      {
        "duration": 7,
        "start_time": "2024-10-01T17:05:38.293Z"
      },
      {
        "duration": 217,
        "start_time": "2024-10-01T17:17:07.024Z"
      },
      {
        "duration": 14,
        "start_time": "2024-10-01T17:17:39.056Z"
      },
      {
        "duration": 423,
        "start_time": "2024-10-01T17:18:25.181Z"
      },
      {
        "duration": 45,
        "start_time": "2024-10-01T17:19:02.970Z"
      },
      {
        "duration": 4,
        "start_time": "2024-10-01T17:20:23.985Z"
      },
      {
        "duration": 32,
        "start_time": "2024-10-01T17:20:24.296Z"
      },
      {
        "duration": 16,
        "start_time": "2024-10-01T17:20:24.758Z"
      },
      {
        "duration": 3,
        "start_time": "2024-10-01T17:20:25.201Z"
      },
      {
        "duration": 5,
        "start_time": "2024-10-01T17:20:25.906Z"
      },
      {
        "duration": 6,
        "start_time": "2024-10-01T17:20:26.275Z"
      },
      {
        "duration": 5,
        "start_time": "2024-10-01T17:20:27.821Z"
      },
      {
        "duration": 3,
        "start_time": "2024-10-01T17:20:28.523Z"
      },
      {
        "duration": 14,
        "start_time": "2024-10-01T17:20:29.105Z"
      },
      {
        "duration": 15,
        "start_time": "2024-10-01T17:20:29.958Z"
      },
      {
        "duration": 42,
        "start_time": "2024-10-01T17:20:32.087Z"
      },
      {
        "duration": 45,
        "start_time": "2024-10-01T17:21:23.578Z"
      },
      {
        "duration": 12,
        "start_time": "2024-10-01T17:21:57.434Z"
      },
      {
        "duration": 3,
        "start_time": "2024-10-01T17:22:11.225Z"
      },
      {
        "duration": 5,
        "start_time": "2024-10-01T17:22:35.512Z"
      },
      {
        "duration": 4,
        "start_time": "2024-10-01T17:25:47.977Z"
      },
      {
        "duration": 4,
        "start_time": "2024-10-01T17:26:25.771Z"
      },
      {
        "duration": 4,
        "start_time": "2024-10-01T17:27:27.470Z"
      },
      {
        "duration": 125,
        "start_time": "2024-10-01T17:28:33.411Z"
      },
      {
        "duration": 47,
        "start_time": "2024-10-01T17:28:49.930Z"
      },
      {
        "duration": 15,
        "start_time": "2024-10-01T17:29:30.733Z"
      },
      {
        "duration": 8,
        "start_time": "2024-10-01T17:29:48.633Z"
      },
      {
        "duration": 7,
        "start_time": "2024-10-01T17:33:50.711Z"
      },
      {
        "duration": 12,
        "start_time": "2024-10-01T17:36:20.715Z"
      },
      {
        "duration": 12,
        "start_time": "2024-10-01T17:38:31.698Z"
      },
      {
        "duration": 2,
        "start_time": "2024-10-01T17:40:01.343Z"
      },
      {
        "duration": 10,
        "start_time": "2024-10-01T17:40:12.746Z"
      },
      {
        "duration": 121,
        "start_time": "2024-10-01T17:42:08.342Z"
      },
      {
        "duration": 13,
        "start_time": "2024-10-01T17:43:08.960Z"
      },
      {
        "duration": 15,
        "start_time": "2024-10-01T17:43:18.301Z"
      },
      {
        "duration": 5,
        "start_time": "2024-10-01T17:49:16.847Z"
      },
      {
        "duration": 14,
        "start_time": "2024-10-01T17:57:48.224Z"
      },
      {
        "duration": 11,
        "start_time": "2024-10-01T17:58:27.931Z"
      },
      {
        "duration": 5,
        "start_time": "2024-10-01T17:59:20.944Z"
      },
      {
        "duration": 5,
        "start_time": "2024-10-01T18:00:17.052Z"
      },
      {
        "duration": 6,
        "start_time": "2024-10-01T18:01:13.825Z"
      },
      {
        "duration": 8,
        "start_time": "2024-10-01T18:02:03.648Z"
      },
      {
        "duration": 8,
        "start_time": "2024-10-01T18:03:00.857Z"
      },
      {
        "duration": 4,
        "start_time": "2024-10-01T18:05:18.404Z"
      },
      {
        "duration": 3,
        "start_time": "2024-10-01T18:05:56.226Z"
      },
      {
        "duration": 6,
        "start_time": "2024-10-01T18:06:24.226Z"
      },
      {
        "duration": 3,
        "start_time": "2024-10-01T18:06:45.651Z"
      },
      {
        "duration": 9,
        "start_time": "2024-10-01T18:07:04.949Z"
      },
      {
        "duration": 287,
        "start_time": "2024-10-01T18:10:38.340Z"
      },
      {
        "duration": 2,
        "start_time": "2024-10-01T18:11:29.531Z"
      },
      {
        "duration": 470,
        "start_time": "2024-10-01T18:13:21.427Z"
      },
      {
        "duration": 283,
        "start_time": "2024-10-01T18:15:04.919Z"
      },
      {
        "duration": 31,
        "start_time": "2024-10-01T18:16:21.430Z"
      },
      {
        "duration": 6,
        "start_time": "2024-10-01T18:16:51.391Z"
      },
      {
        "duration": 8,
        "start_time": "2024-10-01T18:17:03.541Z"
      },
      {
        "duration": 6,
        "start_time": "2024-10-01T18:17:05.108Z"
      },
      {
        "duration": 3,
        "start_time": "2024-10-01T18:17:06.743Z"
      },
      {
        "duration": 6,
        "start_time": "2024-10-01T18:17:08.946Z"
      },
      {
        "duration": 10,
        "start_time": "2024-10-01T18:17:11.906Z"
      },
      {
        "duration": 317,
        "start_time": "2024-10-01T18:17:12.988Z"
      },
      {
        "duration": 30,
        "start_time": "2024-10-01T18:17:14.017Z"
      },
      {
        "duration": 300,
        "start_time": "2024-10-01T18:17:38.977Z"
      },
      {
        "duration": 2,
        "start_time": "2024-10-01T18:20:12.003Z"
      },
      {
        "duration": 232,
        "start_time": "2024-10-01T18:20:31.736Z"
      },
      {
        "duration": 272,
        "start_time": "2024-10-01T18:24:35.516Z"
      },
      {
        "duration": 273,
        "start_time": "2024-10-01T18:24:55.815Z"
      },
      {
        "duration": 292,
        "start_time": "2024-10-01T18:26:31.654Z"
      },
      {
        "duration": 419,
        "start_time": "2024-10-01T18:31:07.286Z"
      },
      {
        "duration": 280,
        "start_time": "2024-10-01T18:32:46.796Z"
      },
      {
        "duration": 383,
        "start_time": "2024-10-01T18:33:47.883Z"
      },
      {
        "duration": 423,
        "start_time": "2024-10-01T18:34:24.298Z"
      },
      {
        "duration": 550,
        "start_time": "2024-10-01T18:34:52.999Z"
      },
      {
        "duration": 406,
        "start_time": "2024-10-01T18:35:02.406Z"
      },
      {
        "duration": 15,
        "start_time": "2024-10-01T18:36:28.572Z"
      },
      {
        "duration": 17,
        "start_time": "2024-10-01T18:37:48.478Z"
      },
      {
        "duration": 14,
        "start_time": "2024-10-01T18:38:01.710Z"
      },
      {
        "duration": 447,
        "start_time": "2024-10-01T18:39:33.196Z"
      },
      {
        "duration": 2,
        "start_time": "2024-10-01T18:40:19.832Z"
      },
      {
        "duration": 452,
        "start_time": "2024-10-01T18:40:54.346Z"
      },
      {
        "duration": 458,
        "start_time": "2024-10-01T18:41:08.935Z"
      },
      {
        "duration": 462,
        "start_time": "2024-10-01T18:41:54.219Z"
      },
      {
        "duration": 459,
        "start_time": "2024-10-01T18:44:23.432Z"
      },
      {
        "duration": 3,
        "start_time": "2024-10-01T18:45:30.781Z"
      },
      {
        "duration": 51,
        "start_time": "2024-10-01T18:46:28.425Z"
      },
      {
        "duration": 7,
        "start_time": "2024-10-01T18:47:01.036Z"
      },
      {
        "duration": 5,
        "start_time": "2024-10-01T18:47:59.353Z"
      },
      {
        "duration": 5,
        "start_time": "2024-10-01T18:48:01.770Z"
      },
      {
        "duration": 470,
        "start_time": "2024-10-01T18:48:15.516Z"
      },
      {
        "duration": 6,
        "start_time": "2024-10-01T18:49:51.405Z"
      },
      {
        "duration": 400,
        "start_time": "2024-10-01T18:49:54.795Z"
      },
      {
        "duration": 537,
        "start_time": "2024-10-01T18:50:32.728Z"
      },
      {
        "duration": 392,
        "start_time": "2024-10-01T18:50:51.721Z"
      },
      {
        "duration": 2,
        "start_time": "2024-10-01T18:51:25.450Z"
      },
      {
        "duration": 1174,
        "start_time": "2024-10-01T18:52:42.018Z"
      },
      {
        "duration": 1251,
        "start_time": "2024-10-01T18:53:32.556Z"
      },
      {
        "duration": 1292,
        "start_time": "2024-10-01T18:54:07.900Z"
      },
      {
        "duration": 1209,
        "start_time": "2024-10-01T18:54:25.340Z"
      },
      {
        "duration": 2,
        "start_time": "2024-10-01T18:54:47.373Z"
      },
      {
        "duration": 187,
        "start_time": "2024-10-01T18:56:04.320Z"
      },
      {
        "duration": 184,
        "start_time": "2024-10-01T18:56:26.910Z"
      },
      {
        "duration": 2,
        "start_time": "2024-10-01T18:57:43.383Z"
      },
      {
        "duration": 471,
        "start_time": "2024-10-01T19:01:19.798Z"
      },
      {
        "duration": 13,
        "start_time": "2024-10-01T19:03:17.491Z"
      },
      {
        "duration": 19,
        "start_time": "2024-10-01T19:03:31.249Z"
      },
      {
        "duration": 435,
        "start_time": "2024-10-01T19:05:14.744Z"
      },
      {
        "duration": 9,
        "start_time": "2024-10-01T19:11:13.274Z"
      },
      {
        "duration": 262,
        "start_time": "2024-10-01T19:11:54.307Z"
      },
      {
        "duration": 411,
        "start_time": "2024-10-01T19:12:17.202Z"
      },
      {
        "duration": 160,
        "start_time": "2024-10-01T19:12:27.751Z"
      },
      {
        "duration": 153,
        "start_time": "2024-10-01T19:13:16.087Z"
      },
      {
        "duration": 270,
        "start_time": "2024-10-01T19:13:48.708Z"
      },
      {
        "duration": 267,
        "start_time": "2024-10-01T19:14:05.214Z"
      },
      {
        "duration": 3,
        "start_time": "2024-10-01T19:14:17.974Z"
      },
      {
        "duration": 3,
        "start_time": "2024-10-01T19:14:20.695Z"
      },
      {
        "duration": 422,
        "start_time": "2024-10-01T19:16:31.145Z"
      },
      {
        "duration": 253,
        "start_time": "2024-10-01T19:17:58.526Z"
      },
      {
        "duration": 433,
        "start_time": "2024-10-01T19:18:45.292Z"
      },
      {
        "duration": 274,
        "start_time": "2024-10-01T19:19:15.156Z"
      },
      {
        "duration": 294,
        "start_time": "2024-10-01T19:19:34.487Z"
      },
      {
        "duration": 295,
        "start_time": "2024-10-01T19:20:03.355Z"
      },
      {
        "duration": 2,
        "start_time": "2024-10-01T19:22:19.868Z"
      },
      {
        "duration": 428,
        "start_time": "2024-10-01T19:22:36.981Z"
      },
      {
        "duration": 2,
        "start_time": "2024-10-01T19:29:35.108Z"
      },
      {
        "duration": 8,
        "start_time": "2024-10-01T19:32:51.379Z"
      },
      {
        "duration": 7,
        "start_time": "2024-10-01T19:34:33.733Z"
      },
      {
        "duration": 8,
        "start_time": "2024-10-01T19:34:37.296Z"
      },
      {
        "duration": 7,
        "start_time": "2024-10-01T19:35:09.756Z"
      },
      {
        "duration": 8,
        "start_time": "2024-10-01T19:35:32.533Z"
      },
      {
        "duration": 8,
        "start_time": "2024-10-01T19:36:08.533Z"
      },
      {
        "duration": 4,
        "start_time": "2024-10-01T19:38:13.227Z"
      },
      {
        "duration": 5,
        "start_time": "2024-10-01T19:39:17.189Z"
      },
      {
        "duration": 2,
        "start_time": "2024-10-01T19:39:57.350Z"
      },
      {
        "duration": 2,
        "start_time": "2024-10-01T19:39:59.593Z"
      },
      {
        "duration": 2,
        "start_time": "2024-10-01T19:41:05.241Z"
      },
      {
        "duration": 3,
        "start_time": "2024-10-01T19:41:57.027Z"
      },
      {
        "duration": 2470,
        "start_time": "2024-10-02T10:40:12.111Z"
      },
      {
        "duration": 49,
        "start_time": "2024-10-02T10:40:14.583Z"
      },
      {
        "duration": 12,
        "start_time": "2024-10-02T10:40:14.634Z"
      },
      {
        "duration": 11,
        "start_time": "2024-10-02T10:40:14.649Z"
      },
      {
        "duration": 5,
        "start_time": "2024-10-02T10:40:14.662Z"
      },
      {
        "duration": 7,
        "start_time": "2024-10-02T10:40:14.668Z"
      },
      {
        "duration": 4,
        "start_time": "2024-10-02T10:40:14.677Z"
      },
      {
        "duration": 2,
        "start_time": "2024-10-02T10:40:14.683Z"
      },
      {
        "duration": 11,
        "start_time": "2024-10-02T10:40:14.688Z"
      },
      {
        "duration": 51,
        "start_time": "2024-10-02T10:40:14.702Z"
      },
      {
        "duration": 4,
        "start_time": "2024-10-02T10:40:14.755Z"
      },
      {
        "duration": 4,
        "start_time": "2024-10-02T10:40:14.761Z"
      },
      {
        "duration": 4,
        "start_time": "2024-10-02T10:40:14.767Z"
      },
      {
        "duration": 4,
        "start_time": "2024-10-02T10:40:14.772Z"
      },
      {
        "duration": 6,
        "start_time": "2024-10-02T10:40:14.778Z"
      },
      {
        "duration": 10,
        "start_time": "2024-10-02T10:40:14.785Z"
      },
      {
        "duration": 53,
        "start_time": "2024-10-02T10:40:14.796Z"
      },
      {
        "duration": 10,
        "start_time": "2024-10-02T10:40:14.851Z"
      },
      {
        "duration": 15,
        "start_time": "2024-10-02T10:40:14.862Z"
      },
      {
        "duration": 6,
        "start_time": "2024-10-02T10:40:14.879Z"
      },
      {
        "duration": 7,
        "start_time": "2024-10-02T10:40:14.887Z"
      },
      {
        "duration": 4,
        "start_time": "2024-10-02T10:40:14.895Z"
      },
      {
        "duration": 3,
        "start_time": "2024-10-02T10:40:14.901Z"
      },
      {
        "duration": 6,
        "start_time": "2024-10-02T10:40:14.942Z"
      },
      {
        "duration": 9,
        "start_time": "2024-10-02T10:40:14.950Z"
      },
      {
        "duration": 306,
        "start_time": "2024-10-02T10:40:14.961Z"
      },
      {
        "duration": 285,
        "start_time": "2024-10-02T10:40:15.269Z"
      },
      {
        "duration": 413,
        "start_time": "2024-10-02T10:40:15.559Z"
      },
      {
        "duration": 301,
        "start_time": "2024-10-02T10:40:15.974Z"
      },
      {
        "duration": 0,
        "start_time": "2024-10-02T10:40:16.277Z"
      },
      {
        "duration": 0,
        "start_time": "2024-10-02T10:40:16.278Z"
      },
      {
        "duration": 0,
        "start_time": "2024-10-02T10:40:16.279Z"
      },
      {
        "duration": 0,
        "start_time": "2024-10-02T10:40:16.280Z"
      },
      {
        "duration": 0,
        "start_time": "2024-10-02T10:40:16.282Z"
      },
      {
        "duration": 0,
        "start_time": "2024-10-02T10:40:16.283Z"
      },
      {
        "duration": 0,
        "start_time": "2024-10-02T10:40:16.285Z"
      },
      {
        "duration": 0,
        "start_time": "2024-10-02T10:40:16.287Z"
      },
      {
        "duration": 0,
        "start_time": "2024-10-02T10:40:16.288Z"
      },
      {
        "duration": 0,
        "start_time": "2024-10-02T10:40:16.290Z"
      },
      {
        "duration": 1,
        "start_time": "2024-10-02T10:40:16.291Z"
      },
      {
        "duration": 0,
        "start_time": "2024-10-02T10:40:16.293Z"
      },
      {
        "duration": 10,
        "start_time": "2024-10-02T10:41:12.883Z"
      },
      {
        "duration": 18,
        "start_time": "2024-10-02T10:41:22.648Z"
      },
      {
        "duration": 7,
        "start_time": "2024-10-02T10:41:30.571Z"
      },
      {
        "duration": 8,
        "start_time": "2024-10-02T10:41:32.131Z"
      },
      {
        "duration": 6,
        "start_time": "2024-10-02T10:41:33.744Z"
      },
      {
        "duration": 3,
        "start_time": "2024-10-02T10:41:35.569Z"
      },
      {
        "duration": 5,
        "start_time": "2024-10-02T10:41:36.347Z"
      },
      {
        "duration": 8,
        "start_time": "2024-10-02T10:41:38.378Z"
      },
      {
        "duration": 241,
        "start_time": "2024-10-02T10:41:44.282Z"
      },
      {
        "duration": 306,
        "start_time": "2024-10-02T10:42:04.504Z"
      },
      {
        "duration": 327,
        "start_time": "2024-10-02T10:42:05.720Z"
      },
      {
        "duration": 22,
        "start_time": "2024-10-02T10:42:06.584Z"
      },
      {
        "duration": 6,
        "start_time": "2024-10-02T10:42:45.767Z"
      },
      {
        "duration": 445,
        "start_time": "2024-10-02T10:42:46.915Z"
      },
      {
        "duration": 1391,
        "start_time": "2024-10-02T10:42:47.754Z"
      },
      {
        "duration": 205,
        "start_time": "2024-10-02T10:42:49.148Z"
      },
      {
        "duration": 3,
        "start_time": "2024-10-02T10:43:35.296Z"
      },
      {
        "duration": 29,
        "start_time": "2024-10-02T10:43:36.063Z"
      },
      {
        "duration": 12,
        "start_time": "2024-10-02T10:43:37.459Z"
      },
      {
        "duration": 11,
        "start_time": "2024-10-02T10:43:39.185Z"
      },
      {
        "duration": 5,
        "start_time": "2024-10-02T10:43:40.734Z"
      },
      {
        "duration": 7,
        "start_time": "2024-10-02T10:43:42.135Z"
      },
      {
        "duration": 5,
        "start_time": "2024-10-02T10:43:44.168Z"
      },
      {
        "duration": 2,
        "start_time": "2024-10-02T10:43:45.225Z"
      },
      {
        "duration": 8,
        "start_time": "2024-10-02T10:43:46.144Z"
      },
      {
        "duration": 16,
        "start_time": "2024-10-02T10:43:52.379Z"
      },
      {
        "duration": 5,
        "start_time": "2024-10-02T10:43:53.692Z"
      },
      {
        "duration": 4,
        "start_time": "2024-10-02T10:43:56.089Z"
      },
      {
        "duration": 4,
        "start_time": "2024-10-02T10:43:56.584Z"
      },
      {
        "duration": 4,
        "start_time": "2024-10-02T10:43:57.065Z"
      },
      {
        "duration": 7,
        "start_time": "2024-10-02T10:44:00.433Z"
      },
      {
        "duration": 10,
        "start_time": "2024-10-02T10:44:01.026Z"
      },
      {
        "duration": 11,
        "start_time": "2024-10-02T10:44:01.864Z"
      },
      {
        "duration": 10,
        "start_time": "2024-10-02T10:44:02.693Z"
      },
      {
        "duration": 17,
        "start_time": "2024-10-02T10:44:12.091Z"
      },
      {
        "duration": 5,
        "start_time": "2024-10-02T10:44:13.330Z"
      },
      {
        "duration": 9,
        "start_time": "2024-10-02T10:44:21.315Z"
      },
      {
        "duration": 5,
        "start_time": "2024-10-02T10:44:24.559Z"
      },
      {
        "duration": 4,
        "start_time": "2024-10-02T10:44:25.495Z"
      },
      {
        "duration": 6,
        "start_time": "2024-10-02T10:44:26.749Z"
      },
      {
        "duration": 7,
        "start_time": "2024-10-02T10:44:27.900Z"
      },
      {
        "duration": 231,
        "start_time": "2024-10-02T10:44:28.707Z"
      },
      {
        "duration": 297,
        "start_time": "2024-10-02T10:44:37.197Z"
      },
      {
        "duration": 342,
        "start_time": "2024-10-02T10:44:37.985Z"
      },
      {
        "duration": 23,
        "start_time": "2024-10-02T10:44:38.884Z"
      },
      {
        "duration": 6,
        "start_time": "2024-10-02T10:46:04.067Z"
      },
      {
        "duration": 435,
        "start_time": "2024-10-02T10:46:05.689Z"
      },
      {
        "duration": 1332,
        "start_time": "2024-10-02T10:46:06.906Z"
      },
      {
        "duration": 188,
        "start_time": "2024-10-02T10:46:08.811Z"
      },
      {
        "duration": 246,
        "start_time": "2024-10-02T10:46:12.983Z"
      },
      {
        "duration": 260,
        "start_time": "2024-10-02T10:46:14.671Z"
      },
      {
        "duration": 270,
        "start_time": "2024-10-02T10:46:16.917Z"
      },
      {
        "duration": 3,
        "start_time": "2024-10-02T10:46:18.447Z"
      },
      {
        "duration": 379,
        "start_time": "2024-10-02T10:46:23.537Z"
      },
      {
        "duration": 8,
        "start_time": "2024-10-02T10:46:34.115Z"
      },
      {
        "duration": 7,
        "start_time": "2024-10-02T10:46:34.668Z"
      },
      {
        "duration": 4,
        "start_time": "2024-10-02T10:46:36.993Z"
      },
      {
        "duration": 2,
        "start_time": "2024-10-02T10:47:26.768Z"
      },
      {
        "duration": 30,
        "start_time": "2024-10-02T10:47:28.320Z"
      },
      {
        "duration": 11,
        "start_time": "2024-10-02T10:47:30.707Z"
      },
      {
        "duration": 11,
        "start_time": "2024-10-02T10:47:32.761Z"
      },
      {
        "duration": 4,
        "start_time": "2024-10-02T10:47:35.279Z"
      },
      {
        "duration": 8,
        "start_time": "2024-10-02T10:47:36.202Z"
      },
      {
        "duration": 6,
        "start_time": "2024-10-02T10:47:44.506Z"
      },
      {
        "duration": 2,
        "start_time": "2024-10-02T10:47:45.664Z"
      },
      {
        "duration": 8,
        "start_time": "2024-10-02T10:47:46.625Z"
      },
      {
        "duration": 14,
        "start_time": "2024-10-02T10:47:48.608Z"
      },
      {
        "duration": 5,
        "start_time": "2024-10-02T10:47:50.839Z"
      },
      {
        "duration": 4,
        "start_time": "2024-10-02T10:47:52.158Z"
      },
      {
        "duration": 5,
        "start_time": "2024-10-02T10:48:02.600Z"
      },
      {
        "duration": 4,
        "start_time": "2024-10-02T10:48:03.193Z"
      },
      {
        "duration": 7,
        "start_time": "2024-10-02T10:48:06.415Z"
      },
      {
        "duration": 11,
        "start_time": "2024-10-02T10:48:09.225Z"
      },
      {
        "duration": 16,
        "start_time": "2024-10-02T10:48:10.481Z"
      },
      {
        "duration": 10,
        "start_time": "2024-10-02T10:48:11.977Z"
      },
      {
        "duration": 13,
        "start_time": "2024-10-02T10:49:09.066Z"
      },
      {
        "duration": 16,
        "start_time": "2024-10-02T10:49:14.971Z"
      },
      {
        "duration": 5,
        "start_time": "2024-10-02T10:49:16.543Z"
      },
      {
        "duration": 8,
        "start_time": "2024-10-02T10:49:19.685Z"
      },
      {
        "duration": 4,
        "start_time": "2024-10-02T10:49:23.289Z"
      },
      {
        "duration": 4,
        "start_time": "2024-10-02T10:49:25.434Z"
      },
      {
        "duration": 6,
        "start_time": "2024-10-02T10:49:26.522Z"
      },
      {
        "duration": 6,
        "start_time": "2024-10-02T10:49:28.285Z"
      },
      {
        "duration": 242,
        "start_time": "2024-10-02T10:49:50.762Z"
      },
      {
        "duration": 292,
        "start_time": "2024-10-02T10:50:37.264Z"
      },
      {
        "duration": 355,
        "start_time": "2024-10-02T10:50:58.292Z"
      },
      {
        "duration": 21,
        "start_time": "2024-10-02T10:51:02.310Z"
      },
      {
        "duration": 6,
        "start_time": "2024-10-02T10:51:15.691Z"
      },
      {
        "duration": 424,
        "start_time": "2024-10-02T10:51:31.929Z"
      },
      {
        "duration": 1377,
        "start_time": "2024-10-02T10:51:41.897Z"
      },
      {
        "duration": 190,
        "start_time": "2024-10-02T10:52:01.113Z"
      },
      {
        "duration": 252,
        "start_time": "2024-10-02T10:52:28.485Z"
      },
      {
        "duration": 281,
        "start_time": "2024-10-02T10:52:42.638Z"
      },
      {
        "duration": 271,
        "start_time": "2024-10-02T10:52:55.713Z"
      },
      {
        "duration": 250,
        "start_time": "2024-10-02T10:53:14.467Z"
      },
      {
        "duration": 3,
        "start_time": "2024-10-02T10:53:23.194Z"
      },
      {
        "duration": 8,
        "start_time": "2024-10-02T10:56:01.409Z"
      },
      {
        "duration": 6,
        "start_time": "2024-10-02T10:56:06.204Z"
      },
      {
        "duration": 5,
        "start_time": "2024-10-02T10:56:08.781Z"
      },
      {
        "duration": 6,
        "start_time": "2024-10-02T10:57:30.434Z"
      },
      {
        "duration": 5,
        "start_time": "2024-10-02T11:00:23.134Z"
      },
      {
        "duration": 5,
        "start_time": "2024-10-02T11:00:31.125Z"
      },
      {
        "duration": 5,
        "start_time": "2024-10-02T11:00:47.391Z"
      },
      {
        "duration": 5,
        "start_time": "2024-10-02T11:00:58.823Z"
      },
      {
        "duration": 10,
        "start_time": "2024-10-02T11:01:38.767Z"
      },
      {
        "duration": 6,
        "start_time": "2024-10-02T11:01:51.645Z"
      },
      {
        "duration": 7,
        "start_time": "2024-10-02T11:02:28.809Z"
      },
      {
        "duration": 4,
        "start_time": "2024-10-02T11:02:34.339Z"
      },
      {
        "duration": 4,
        "start_time": "2024-10-02T11:02:49.108Z"
      },
      {
        "duration": 3,
        "start_time": "2024-10-02T11:04:07.632Z"
      },
      {
        "duration": 3,
        "start_time": "2024-10-02T11:04:17.005Z"
      },
      {
        "duration": 3,
        "start_time": "2024-10-02T11:04:32.203Z"
      },
      {
        "duration": 4,
        "start_time": "2024-10-02T11:04:33.317Z"
      },
      {
        "duration": 3,
        "start_time": "2024-10-02T11:06:28.146Z"
      },
      {
        "duration": 3,
        "start_time": "2024-10-02T11:06:36.577Z"
      },
      {
        "duration": 4,
        "start_time": "2024-10-02T11:06:37.325Z"
      },
      {
        "duration": 8,
        "start_time": "2024-10-02T11:09:25.229Z"
      },
      {
        "duration": 6,
        "start_time": "2024-10-02T11:09:44.855Z"
      },
      {
        "duration": 3,
        "start_time": "2024-10-02T11:09:45.301Z"
      },
      {
        "duration": 4,
        "start_time": "2024-10-02T11:09:45.886Z"
      },
      {
        "duration": 3,
        "start_time": "2024-10-02T11:10:01.453Z"
      },
      {
        "duration": 4,
        "start_time": "2024-10-02T11:10:01.939Z"
      },
      {
        "duration": 4,
        "start_time": "2024-10-02T11:10:21.439Z"
      },
      {
        "duration": 3,
        "start_time": "2024-10-02T11:10:25.610Z"
      },
      {
        "duration": 7,
        "start_time": "2024-10-02T11:11:11.166Z"
      },
      {
        "duration": 5,
        "start_time": "2024-10-02T11:11:31.081Z"
      },
      {
        "duration": 4,
        "start_time": "2024-10-02T11:12:04.104Z"
      },
      {
        "duration": 18,
        "start_time": "2024-10-02T11:14:26.088Z"
      },
      {
        "duration": 17,
        "start_time": "2024-10-02T11:15:14.997Z"
      },
      {
        "duration": 11,
        "start_time": "2024-10-02T11:15:21.043Z"
      },
      {
        "duration": 10,
        "start_time": "2024-10-02T11:16:09.356Z"
      },
      {
        "duration": 5,
        "start_time": "2024-10-02T11:16:24.794Z"
      },
      {
        "duration": 6,
        "start_time": "2024-10-02T11:16:27.114Z"
      },
      {
        "duration": 9,
        "start_time": "2024-10-02T11:18:58.994Z"
      },
      {
        "duration": 9,
        "start_time": "2024-10-02T11:19:16.807Z"
      },
      {
        "duration": 6,
        "start_time": "2024-10-02T11:19:57.681Z"
      },
      {
        "duration": 9,
        "start_time": "2024-10-02T11:19:58.767Z"
      },
      {
        "duration": 5,
        "start_time": "2024-10-02T11:20:02.844Z"
      },
      {
        "duration": 5,
        "start_time": "2024-10-02T11:20:04.658Z"
      },
      {
        "duration": 22,
        "start_time": "2024-10-02T11:22:04.333Z"
      },
      {
        "duration": 406,
        "start_time": "2024-10-02T11:22:41.495Z"
      },
      {
        "duration": 437,
        "start_time": "2024-10-02T11:24:48.292Z"
      },
      {
        "duration": 372,
        "start_time": "2024-10-02T11:24:49.356Z"
      },
      {
        "duration": 9,
        "start_time": "2024-10-02T16:39:03.378Z"
      }
    ],
    "kernelspec": {
      "display_name": "Python 3 (ipykernel)",
      "language": "python",
      "name": "python3"
    },
    "language_info": {
      "codemirror_mode": {
        "name": "ipython",
        "version": 3
      },
      "file_extension": ".py",
      "mimetype": "text/x-python",
      "name": "python",
      "nbconvert_exporter": "python",
      "pygments_lexer": "ipython3",
      "version": "3.12.4"
    },
    "toc": {
      "base_numbering": 1,
      "nav_menu": {},
      "number_sections": true,
      "sideBar": true,
      "skip_h1_title": true,
      "title_cell": "Table of Contents",
      "title_sidebar": "Contents",
      "toc_cell": false,
      "toc_position": {},
      "toc_section_display": true,
      "toc_window_display": false
    },
    "colab": {
      "provenance": [],
      "include_colab_link": true
    }
  },
  "nbformat": 4,
  "nbformat_minor": 0
}